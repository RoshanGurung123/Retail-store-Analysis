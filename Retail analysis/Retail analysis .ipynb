{
 "cells": [
  {
   "cell_type": "markdown",
   "id": "3fb2ad4a",
   "metadata": {},
   "source": [
    "# Problem statement\n",
    "It is a business critical requirement to understand the value derived from a customer. RFM is a method used for analyzing customer value.\n",
    "Perform customer segmentation using RFM analysis. The resulting segments can be ordered from most valuable (highest recency, frequency, and value) to least valuable (lowest recency, frequency, and value). Identifying the most valuable RFM segments can capitalize on chance relationships in the data used for this analysis.\n"
   ]
  },
  {
   "cell_type": "markdown",
   "id": "5dc51b00",
   "metadata": {},
   "source": [
    "# Data Description:\n",
    "InvoiceNo: Invoice number. Nominal, a 6-digit integral number uniquely assigned to each transaction. If this code starts with letter 'c', it indicates a cancellation. \n",
    "\n",
    "StockCode: Product (item) code. Nominal, a 5-digit integral number uniquely assigned to each distinct product. \n",
    "\n",
    "Description: Product (item) name. Nominal. \n",
    "\n",
    "Quantity: The quantities of each product (item) per transaction. Numeric. \n",
    "\n",
    "InvoiceDate: Invoice Date and time. Numeric, the day and time when each transaction was generated. \n",
    "\n",
    "UnitPrice: Unit price. Numeric, Product price per unit in sterling. \n",
    "\n",
    "CustomerID: Customer number. Nominal, a 5-digit integral number uniquely assigned to each customer. \n",
    "\n",
    "Country: Country name. Nominal, the name of the country where each customer resides.\n",
    "\n",
    "This is a transnational data set which contains all the transactions occurring between 01/12/2010 and 09/12/2011 for a UK-based and registered non-store online retail.The company mainly sells unique all-occasion gifts. Many customers of the company are wholesalers."
   ]
  },
  {
   "cell_type": "markdown",
   "id": "03ae87b3",
   "metadata": {},
   "source": [
    "# More about RFM analysis:\n",
    "\n",
    "RFM stands for Recency, Frequency, Monetary value. This concept is basically used to divide the customers into different segmenets, like high-value customer, medium value custoemr or low-value customers and similarly others."
   ]
  },
  {
   "cell_type": "markdown",
   "id": "af443d19",
   "metadata": {},
   "source": [
    "# Steps to follow:\n",
    "\n",
    "1. Data collection and importation\n",
    "2. Data cleaning and pre-processing\n",
    "3. Cohort analysis\n",
    "4. Model development- RFM Model"
   ]
  },
  {
   "cell_type": "markdown",
   "id": "633ebf9f",
   "metadata": {},
   "source": [
    "# 1. Data collection and importation"
   ]
  },
  {
   "cell_type": "code",
   "execution_count": 1,
   "id": "63b80d78",
   "metadata": {},
   "outputs": [],
   "source": [
    "# import necessary libaries\n",
    "import pandas as pd\n",
    "import numpy as np\n",
    "import matplotlib.pyplot as plt\n",
    "import seaborn as sns"
   ]
  },
  {
   "cell_type": "code",
   "execution_count": 2,
   "id": "d8829ee3",
   "metadata": {},
   "outputs": [
    {
     "data": {
      "text/html": [
       "<div>\n",
       "<style scoped>\n",
       "    .dataframe tbody tr th:only-of-type {\n",
       "        vertical-align: middle;\n",
       "    }\n",
       "\n",
       "    .dataframe tbody tr th {\n",
       "        vertical-align: top;\n",
       "    }\n",
       "\n",
       "    .dataframe thead th {\n",
       "        text-align: right;\n",
       "    }\n",
       "</style>\n",
       "<table border=\"1\" class=\"dataframe\">\n",
       "  <thead>\n",
       "    <tr style=\"text-align: right;\">\n",
       "      <th></th>\n",
       "      <th>InvoiceNo</th>\n",
       "      <th>StockCode</th>\n",
       "      <th>Description</th>\n",
       "      <th>Quantity</th>\n",
       "      <th>InvoiceDate</th>\n",
       "      <th>UnitPrice</th>\n",
       "      <th>CustomerID</th>\n",
       "      <th>Country</th>\n",
       "    </tr>\n",
       "  </thead>\n",
       "  <tbody>\n",
       "    <tr>\n",
       "      <th>0</th>\n",
       "      <td>536365</td>\n",
       "      <td>85123A</td>\n",
       "      <td>WHITE HANGING HEART T-LIGHT HOLDER</td>\n",
       "      <td>6</td>\n",
       "      <td>2010-12-01 08:26:00</td>\n",
       "      <td>2.55</td>\n",
       "      <td>17850.0</td>\n",
       "      <td>United Kingdom</td>\n",
       "    </tr>\n",
       "    <tr>\n",
       "      <th>1</th>\n",
       "      <td>536365</td>\n",
       "      <td>71053</td>\n",
       "      <td>WHITE METAL LANTERN</td>\n",
       "      <td>6</td>\n",
       "      <td>2010-12-01 08:26:00</td>\n",
       "      <td>3.39</td>\n",
       "      <td>17850.0</td>\n",
       "      <td>United Kingdom</td>\n",
       "    </tr>\n",
       "    <tr>\n",
       "      <th>2</th>\n",
       "      <td>536365</td>\n",
       "      <td>84406B</td>\n",
       "      <td>CREAM CUPID HEARTS COAT HANGER</td>\n",
       "      <td>8</td>\n",
       "      <td>2010-12-01 08:26:00</td>\n",
       "      <td>2.75</td>\n",
       "      <td>17850.0</td>\n",
       "      <td>United Kingdom</td>\n",
       "    </tr>\n",
       "    <tr>\n",
       "      <th>3</th>\n",
       "      <td>536365</td>\n",
       "      <td>84029G</td>\n",
       "      <td>KNITTED UNION FLAG HOT WATER BOTTLE</td>\n",
       "      <td>6</td>\n",
       "      <td>2010-12-01 08:26:00</td>\n",
       "      <td>3.39</td>\n",
       "      <td>17850.0</td>\n",
       "      <td>United Kingdom</td>\n",
       "    </tr>\n",
       "    <tr>\n",
       "      <th>4</th>\n",
       "      <td>536365</td>\n",
       "      <td>84029E</td>\n",
       "      <td>RED WOOLLY HOTTIE WHITE HEART.</td>\n",
       "      <td>6</td>\n",
       "      <td>2010-12-01 08:26:00</td>\n",
       "      <td>3.39</td>\n",
       "      <td>17850.0</td>\n",
       "      <td>United Kingdom</td>\n",
       "    </tr>\n",
       "  </tbody>\n",
       "</table>\n",
       "</div>"
      ],
      "text/plain": [
       "  InvoiceNo StockCode                          Description  Quantity  \\\n",
       "0    536365    85123A   WHITE HANGING HEART T-LIGHT HOLDER         6   \n",
       "1    536365     71053                  WHITE METAL LANTERN         6   \n",
       "2    536365    84406B       CREAM CUPID HEARTS COAT HANGER         8   \n",
       "3    536365    84029G  KNITTED UNION FLAG HOT WATER BOTTLE         6   \n",
       "4    536365    84029E       RED WOOLLY HOTTIE WHITE HEART.         6   \n",
       "\n",
       "          InvoiceDate  UnitPrice  CustomerID         Country  \n",
       "0 2010-12-01 08:26:00       2.55     17850.0  United Kingdom  \n",
       "1 2010-12-01 08:26:00       3.39     17850.0  United Kingdom  \n",
       "2 2010-12-01 08:26:00       2.75     17850.0  United Kingdom  \n",
       "3 2010-12-01 08:26:00       3.39     17850.0  United Kingdom  \n",
       "4 2010-12-01 08:26:00       3.39     17850.0  United Kingdom  "
      ]
     },
     "execution_count": 2,
     "metadata": {},
     "output_type": "execute_result"
    }
   ],
   "source": [
    "# load the dataset\n",
    "data=pd.read_excel(\"Online Retail.xlsx\")\n",
    "data.head()"
   ]
  },
  {
   "cell_type": "code",
   "execution_count": 3,
   "id": "6ae14b2b",
   "metadata": {},
   "outputs": [
    {
     "data": {
      "text/plain": [
       "(541909, 8)"
      ]
     },
     "execution_count": 3,
     "metadata": {},
     "output_type": "execute_result"
    }
   ],
   "source": [
    "data.shape"
   ]
  },
  {
   "cell_type": "markdown",
   "id": "fcb856cf",
   "metadata": {},
   "source": [
    "There are 8 features and 5,41,909 data."
   ]
  },
  {
   "cell_type": "markdown",
   "id": "671148d4",
   "metadata": {},
   "source": [
    "# 2. Data Cleaning and Pre-processing"
   ]
  },
  {
   "cell_type": "code",
   "execution_count": 4,
   "id": "f01f24b3",
   "metadata": {},
   "outputs": [
    {
     "data": {
      "text/plain": [
       "InvoiceNo           0\n",
       "StockCode           0\n",
       "Description      1454\n",
       "Quantity            0\n",
       "InvoiceDate         0\n",
       "UnitPrice           0\n",
       "CustomerID     135080\n",
       "Country             0\n",
       "dtype: int64"
      ]
     },
     "execution_count": 4,
     "metadata": {},
     "output_type": "execute_result"
    }
   ],
   "source": [
    "# checking for the null and duplicate values\n",
    "data.isna().sum()"
   ]
  },
  {
   "cell_type": "markdown",
   "id": "aef6c186",
   "metadata": {},
   "source": [
    "For the description feature and customer ID there are only few missing values so deleting the null values in description feature and since customerID are the unique id given to each customer so there is no way we can impute the customer ID manually so dropping the null values in both features."
   ]
  },
  {
   "cell_type": "code",
   "execution_count": 5,
   "id": "3ccf5681",
   "metadata": {},
   "outputs": [
    {
     "data": {
      "text/plain": [
       "InvoiceNo      0\n",
       "StockCode      0\n",
       "Description    0\n",
       "Quantity       0\n",
       "InvoiceDate    0\n",
       "UnitPrice      0\n",
       "CustomerID     0\n",
       "Country        0\n",
       "dtype: int64"
      ]
     },
     "execution_count": 5,
     "metadata": {},
     "output_type": "execute_result"
    }
   ],
   "source": [
    "data=data.dropna()\n",
    "data.isna().sum()"
   ]
  },
  {
   "cell_type": "code",
   "execution_count": 6,
   "id": "c32ef2c5",
   "metadata": {},
   "outputs": [
    {
     "data": {
      "text/plain": [
       "(406829, 8)"
      ]
     },
     "execution_count": 6,
     "metadata": {},
     "output_type": "execute_result"
    }
   ],
   "source": [
    "data.shape"
   ]
  },
  {
   "cell_type": "code",
   "execution_count": 7,
   "id": "71d04d1e",
   "metadata": {},
   "outputs": [],
   "source": [
    "# data.to_csv('Retail_data.csv')"
   ]
  },
  {
   "cell_type": "code",
   "execution_count": 8,
   "id": "0ea2f282",
   "metadata": {},
   "outputs": [
    {
     "data": {
      "text/html": [
       "<div>\n",
       "<style scoped>\n",
       "    .dataframe tbody tr th:only-of-type {\n",
       "        vertical-align: middle;\n",
       "    }\n",
       "\n",
       "    .dataframe tbody tr th {\n",
       "        vertical-align: top;\n",
       "    }\n",
       "\n",
       "    .dataframe thead th {\n",
       "        text-align: right;\n",
       "    }\n",
       "</style>\n",
       "<table border=\"1\" class=\"dataframe\">\n",
       "  <thead>\n",
       "    <tr style=\"text-align: right;\">\n",
       "      <th></th>\n",
       "      <th>Quantity</th>\n",
       "      <th>UnitPrice</th>\n",
       "      <th>CustomerID</th>\n",
       "    </tr>\n",
       "  </thead>\n",
       "  <tbody>\n",
       "    <tr>\n",
       "      <th>count</th>\n",
       "      <td>406829.000000</td>\n",
       "      <td>406829.000000</td>\n",
       "      <td>406829.000000</td>\n",
       "    </tr>\n",
       "    <tr>\n",
       "      <th>mean</th>\n",
       "      <td>12.061303</td>\n",
       "      <td>3.460471</td>\n",
       "      <td>15287.690570</td>\n",
       "    </tr>\n",
       "    <tr>\n",
       "      <th>std</th>\n",
       "      <td>248.693370</td>\n",
       "      <td>69.315162</td>\n",
       "      <td>1713.600303</td>\n",
       "    </tr>\n",
       "    <tr>\n",
       "      <th>min</th>\n",
       "      <td>-80995.000000</td>\n",
       "      <td>0.000000</td>\n",
       "      <td>12346.000000</td>\n",
       "    </tr>\n",
       "    <tr>\n",
       "      <th>25%</th>\n",
       "      <td>2.000000</td>\n",
       "      <td>1.250000</td>\n",
       "      <td>13953.000000</td>\n",
       "    </tr>\n",
       "    <tr>\n",
       "      <th>50%</th>\n",
       "      <td>5.000000</td>\n",
       "      <td>1.950000</td>\n",
       "      <td>15152.000000</td>\n",
       "    </tr>\n",
       "    <tr>\n",
       "      <th>75%</th>\n",
       "      <td>12.000000</td>\n",
       "      <td>3.750000</td>\n",
       "      <td>16791.000000</td>\n",
       "    </tr>\n",
       "    <tr>\n",
       "      <th>max</th>\n",
       "      <td>80995.000000</td>\n",
       "      <td>38970.000000</td>\n",
       "      <td>18287.000000</td>\n",
       "    </tr>\n",
       "  </tbody>\n",
       "</table>\n",
       "</div>"
      ],
      "text/plain": [
       "            Quantity      UnitPrice     CustomerID\n",
       "count  406829.000000  406829.000000  406829.000000\n",
       "mean       12.061303       3.460471   15287.690570\n",
       "std       248.693370      69.315162    1713.600303\n",
       "min    -80995.000000       0.000000   12346.000000\n",
       "25%         2.000000       1.250000   13953.000000\n",
       "50%         5.000000       1.950000   15152.000000\n",
       "75%        12.000000       3.750000   16791.000000\n",
       "max     80995.000000   38970.000000   18287.000000"
      ]
     },
     "execution_count": 8,
     "metadata": {},
     "output_type": "execute_result"
    }
   ],
   "source": [
    "# descriptive analysis\n",
    "data.describe()"
   ]
  },
  {
   "cell_type": "markdown",
   "id": "35b73d84",
   "metadata": {},
   "source": [
    "# 3. Cohort analysis"
   ]
  },
  {
   "cell_type": "code",
   "execution_count": 9,
   "id": "e9841aa1",
   "metadata": {},
   "outputs": [
    {
     "data": {
      "text/plain": [
       "Index(['InvoiceNo', 'StockCode', 'Description', 'Quantity', 'InvoiceDate',\n",
       "       'UnitPrice', 'CustomerID', 'Country'],\n",
       "      dtype='object')"
      ]
     },
     "execution_count": 9,
     "metadata": {},
     "output_type": "execute_result"
    }
   ],
   "source": [
    "data.columns"
   ]
  },
  {
   "cell_type": "code",
   "execution_count": 10,
   "id": "ec1b6514",
   "metadata": {},
   "outputs": [
    {
     "name": "stdout",
     "output_type": "stream",
     "text": [
      "<class 'pandas.core.frame.DataFrame'>\n",
      "Int64Index: 406829 entries, 0 to 541908\n",
      "Data columns (total 8 columns):\n",
      " #   Column       Non-Null Count   Dtype         \n",
      "---  ------       --------------   -----         \n",
      " 0   InvoiceNo    406829 non-null  object        \n",
      " 1   StockCode    406829 non-null  object        \n",
      " 2   Description  406829 non-null  object        \n",
      " 3   Quantity     406829 non-null  int64         \n",
      " 4   InvoiceDate  406829 non-null  datetime64[ns]\n",
      " 5   UnitPrice    406829 non-null  float64       \n",
      " 6   CustomerID   406829 non-null  float64       \n",
      " 7   Country      406829 non-null  object        \n",
      "dtypes: datetime64[ns](1), float64(2), int64(1), object(4)\n",
      "memory usage: 27.9+ MB\n"
     ]
    }
   ],
   "source": [
    "data.info()"
   ]
  },
  {
   "cell_type": "code",
   "execution_count": 11,
   "id": "b66c6a9e",
   "metadata": {},
   "outputs": [],
   "source": [
    "# creating a cohort of months \n",
    "# extracting months from the Invoice date and assigning new feature called month\n",
    "data['Month']=data['InvoiceDate'].dt.month"
   ]
  },
  {
   "cell_type": "code",
   "execution_count": 12,
   "id": "8a46b805",
   "metadata": {},
   "outputs": [
    {
     "data": {
      "text/html": [
       "<div>\n",
       "<style scoped>\n",
       "    .dataframe tbody tr th:only-of-type {\n",
       "        vertical-align: middle;\n",
       "    }\n",
       "\n",
       "    .dataframe tbody tr th {\n",
       "        vertical-align: top;\n",
       "    }\n",
       "\n",
       "    .dataframe thead th {\n",
       "        text-align: right;\n",
       "    }\n",
       "</style>\n",
       "<table border=\"1\" class=\"dataframe\">\n",
       "  <thead>\n",
       "    <tr style=\"text-align: right;\">\n",
       "      <th></th>\n",
       "      <th>InvoiceNo</th>\n",
       "      <th>StockCode</th>\n",
       "      <th>Description</th>\n",
       "      <th>Quantity</th>\n",
       "      <th>InvoiceDate</th>\n",
       "      <th>UnitPrice</th>\n",
       "      <th>CustomerID</th>\n",
       "      <th>Country</th>\n",
       "      <th>Month</th>\n",
       "    </tr>\n",
       "  </thead>\n",
       "  <tbody>\n",
       "    <tr>\n",
       "      <th>0</th>\n",
       "      <td>536365</td>\n",
       "      <td>85123A</td>\n",
       "      <td>WHITE HANGING HEART T-LIGHT HOLDER</td>\n",
       "      <td>6</td>\n",
       "      <td>2010-12-01 08:26:00</td>\n",
       "      <td>2.55</td>\n",
       "      <td>17850.0</td>\n",
       "      <td>United Kingdom</td>\n",
       "      <td>12</td>\n",
       "    </tr>\n",
       "    <tr>\n",
       "      <th>1</th>\n",
       "      <td>536365</td>\n",
       "      <td>71053</td>\n",
       "      <td>WHITE METAL LANTERN</td>\n",
       "      <td>6</td>\n",
       "      <td>2010-12-01 08:26:00</td>\n",
       "      <td>3.39</td>\n",
       "      <td>17850.0</td>\n",
       "      <td>United Kingdom</td>\n",
       "      <td>12</td>\n",
       "    </tr>\n",
       "    <tr>\n",
       "      <th>2</th>\n",
       "      <td>536365</td>\n",
       "      <td>84406B</td>\n",
       "      <td>CREAM CUPID HEARTS COAT HANGER</td>\n",
       "      <td>8</td>\n",
       "      <td>2010-12-01 08:26:00</td>\n",
       "      <td>2.75</td>\n",
       "      <td>17850.0</td>\n",
       "      <td>United Kingdom</td>\n",
       "      <td>12</td>\n",
       "    </tr>\n",
       "    <tr>\n",
       "      <th>3</th>\n",
       "      <td>536365</td>\n",
       "      <td>84029G</td>\n",
       "      <td>KNITTED UNION FLAG HOT WATER BOTTLE</td>\n",
       "      <td>6</td>\n",
       "      <td>2010-12-01 08:26:00</td>\n",
       "      <td>3.39</td>\n",
       "      <td>17850.0</td>\n",
       "      <td>United Kingdom</td>\n",
       "      <td>12</td>\n",
       "    </tr>\n",
       "    <tr>\n",
       "      <th>4</th>\n",
       "      <td>536365</td>\n",
       "      <td>84029E</td>\n",
       "      <td>RED WOOLLY HOTTIE WHITE HEART.</td>\n",
       "      <td>6</td>\n",
       "      <td>2010-12-01 08:26:00</td>\n",
       "      <td>3.39</td>\n",
       "      <td>17850.0</td>\n",
       "      <td>United Kingdom</td>\n",
       "      <td>12</td>\n",
       "    </tr>\n",
       "  </tbody>\n",
       "</table>\n",
       "</div>"
      ],
      "text/plain": [
       "  InvoiceNo StockCode                          Description  Quantity  \\\n",
       "0    536365    85123A   WHITE HANGING HEART T-LIGHT HOLDER         6   \n",
       "1    536365     71053                  WHITE METAL LANTERN         6   \n",
       "2    536365    84406B       CREAM CUPID HEARTS COAT HANGER         8   \n",
       "3    536365    84029G  KNITTED UNION FLAG HOT WATER BOTTLE         6   \n",
       "4    536365    84029E       RED WOOLLY HOTTIE WHITE HEART.         6   \n",
       "\n",
       "          InvoiceDate  UnitPrice  CustomerID         Country  Month  \n",
       "0 2010-12-01 08:26:00       2.55     17850.0  United Kingdom     12  \n",
       "1 2010-12-01 08:26:00       3.39     17850.0  United Kingdom     12  \n",
       "2 2010-12-01 08:26:00       2.75     17850.0  United Kingdom     12  \n",
       "3 2010-12-01 08:26:00       3.39     17850.0  United Kingdom     12  \n",
       "4 2010-12-01 08:26:00       3.39     17850.0  United Kingdom     12  "
      ]
     },
     "execution_count": 12,
     "metadata": {},
     "output_type": "execute_result"
    }
   ],
   "source": [
    "data.head()"
   ]
  },
  {
   "cell_type": "code",
   "execution_count": 13,
   "id": "c6277513",
   "metadata": {},
   "outputs": [],
   "source": [
    "month_groupby=data.groupby('Month')"
   ]
  },
  {
   "cell_type": "code",
   "execution_count": 14,
   "id": "81c511bf",
   "metadata": {},
   "outputs": [
    {
     "name": "stdout",
     "output_type": "stream",
     "text": [
      "Month: 12\n",
      "Total customers for month 12 are: 1374\n"
     ]
    },
    {
     "data": {
      "image/png": "[encoded data removed]",
      "text/plain": [
       "<Figure size 800x600 with 1 Axes>"
      ]
     },
     "metadata": {},
     "output_type": "display_data"
    },
    {
     "name": "stdout",
     "output_type": "stream",
     "text": [
      "Month: 1\n",
      "Total customers for month 1 are: 783\n"
     ]
    },
    {
     "data": {
      "image/png": "[encoded data removed]",
      "text/plain": [
       "<Figure size 800x600 with 1 Axes>"
      ]
     },
     "metadata": {},
     "output_type": "display_data"
    },
    {
     "name": "stdout",
     "output_type": "stream",
     "text": [
      "Month: 2\n",
      "Total customers for month 2 are: 798\n"
     ]
    },
    {
     "data": {
      "image/png": "[encoded data removed]",
      "text/plain": [
       "<Figure size 800x600 with 1 Axes>"
      ]
     },
     "metadata": {},
     "output_type": "display_data"
    },
    {
     "name": "stdout",
     "output_type": "stream",
     "text": [
      "Month: 3\n",
      "Total customers for month 3 are: 1020\n"
     ]
    },
    {
     "data": {
      "image/png": "[encoded data removed]",
      "text/plain": [
       "<Figure size 800x600 with 1 Axes>"
      ]
     },
     "metadata": {},
     "output_type": "display_data"
    },
    {
     "name": "stdout",
     "output_type": "stream",
     "text": [
      "Month: 4\n",
      "Total customers for month 4 are: 899\n"
     ]
    },
    {
     "data": {
      "image/png": "[encoded data removed]",
      "text/plain": [
       "<Figure size 800x600 with 1 Axes>"
      ]
     },
     "metadata": {},
     "output_type": "display_data"
    },
    {
     "name": "stdout",
     "output_type": "stream",
     "text": [
      "Month: 5\n",
      "Total customers for month 5 are: 1079\n"
     ]
    },
    {
     "data": {
      "image/png": "[encoded data removed]",
      "text/plain": [
       "<Figure size 800x600 with 1 Axes>"
      ]
     },
     "metadata": {},
     "output_type": "display_data"
    },
    {
     "name": "stdout",
     "output_type": "stream",
     "text": [
      "Month: 6\n",
      "Total customers for month 6 are: 1051\n"
     ]
    },
    {
     "data": {
      "image/png": "[encoded data removed]",
      "text/plain": [
       "<Figure size 800x600 with 1 Axes>"
      ]
     },
     "metadata": {},
     "output_type": "display_data"
    },
    {
     "name": "stdout",
     "output_type": "stream",
     "text": [
      "Month: 7\n",
      "Total customers for month 7 are: 993\n"
     ]
    },
    {
     "data": {
      "image/png": "[encoded data removed]",
      "text/plain": [
       "<Figure size 800x600 with 1 Axes>"
      ]
     },
     "metadata": {},
     "output_type": "display_data"
    },
    {
     "name": "stdout",
     "output_type": "stream",
     "text": [
      "Month: 8\n",
      "Total customers for month 8 are: 980\n"
     ]
    },
    {
     "data": {
      "image/png": "[encoded data removed]",
      "text/plain": [
       "<Figure size 800x600 with 1 Axes>"
      ]
     },
     "metadata": {},
     "output_type": "display_data"
    },
    {
     "name": "stdout",
     "output_type": "stream",
     "text": [
      "Month: 9\n",
      "Total customers for month 9 are: 1302\n"
     ]
    },
    {
     "data": {
      "image/png": "[encoded data removed]",
      "text/plain": [
       "<Figure size 800x600 with 1 Axes>"
      ]
     },
     "metadata": {},
     "output_type": "display_data"
    },
    {
     "name": "stdout",
     "output_type": "stream",
     "text": [
      "Month: 10\n",
      "Total customers for month 10 are: 1425\n"
     ]
    },
    {
     "data": {
      "image/png": "[encoded data removed]",
      "text/plain": [
       "<Figure size 800x600 with 1 Axes>"
      ]
     },
     "metadata": {},
     "output_type": "display_data"
    },
    {
     "name": "stdout",
     "output_type": "stream",
     "text": [
      "Month: 11\n",
      "Total customers for month 11 are: 1711\n"
     ]
    },
    {
     "data": {
      "image/png": "[encoded data removed]",
      "text/plain": [
       "<Figure size 800x600 with 1 Axes>"
      ]
     },
     "metadata": {},
     "output_type": "display_data"
    }
   ],
   "source": [
    "for month in data['Month'].unique():\n",
    "    print(f\"Month: {month}\")\n",
    "    get_data = month_groupby.get_group(month)\n",
    "    print(f\"Total customers for month {month} are: {len(get_data['CustomerID'].value_counts())}\")\n",
    "    \n",
    "    # Plotting for each month\n",
    "    plt.figure(figsize=(8, 6))  # Adjust the figure size as needed\n",
    "    get_data['CustomerID'].value_counts().head(10).plot(kind='bar', color='skyblue')\n",
    "    plt.title(f\"Top 10 Active Customers - month {month}\")\n",
    "    plt.xlabel('CustomerID')\n",
    "    plt.ylabel('Frequency')\n",
    "    plt.xticks(rotation=45)  # Rotating x-axis labels for better readability\n",
    "    plt.tight_layout()  # Adjust layout to prevent overlapping labels\n",
    "    plt.show()"
   ]
  },
  {
   "cell_type": "markdown",
   "id": "69faacfc",
   "metadata": {},
   "source": [
    "# Retention rate calculation by month"
   ]
  },
  {
   "cell_type": "markdown",
   "id": "a22c8e35",
   "metadata": {},
   "source": [
    "Since the data is from 01/12/2010 - 09/12/2011 Retention Rate will be calculated based on the number of active customer which were present in the month of 01/12/2010 and how many were there are in 01/11/2011. "
   ]
  },
  {
   "cell_type": "code",
   "execution_count": 15,
   "id": "ed797932",
   "metadata": {},
   "outputs": [],
   "source": [
    "# making a copy of the original dataset for experimentation\n",
    "data_copy=data.copy()"
   ]
  },
  {
   "cell_type": "code",
   "execution_count": 16,
   "id": "9688518a",
   "metadata": {},
   "outputs": [],
   "source": [
    "data_copy['Date']=data_copy['InvoiceDate'].dt.date"
   ]
  },
  {
   "cell_type": "code",
   "execution_count": 17,
   "id": "78b1526b",
   "metadata": {
    "scrolled": true
   },
   "outputs": [
    {
     "data": {
      "text/html": [
       "<div>\n",
       "<style scoped>\n",
       "    .dataframe tbody tr th:only-of-type {\n",
       "        vertical-align: middle;\n",
       "    }\n",
       "\n",
       "    .dataframe tbody tr th {\n",
       "        vertical-align: top;\n",
       "    }\n",
       "\n",
       "    .dataframe thead th {\n",
       "        text-align: right;\n",
       "    }\n",
       "</style>\n",
       "<table border=\"1\" class=\"dataframe\">\n",
       "  <thead>\n",
       "    <tr style=\"text-align: right;\">\n",
       "      <th></th>\n",
       "      <th>InvoiceNo</th>\n",
       "      <th>StockCode</th>\n",
       "      <th>Description</th>\n",
       "      <th>Quantity</th>\n",
       "      <th>InvoiceDate</th>\n",
       "      <th>UnitPrice</th>\n",
       "      <th>CustomerID</th>\n",
       "      <th>Country</th>\n",
       "      <th>Month</th>\n",
       "      <th>Date</th>\n",
       "    </tr>\n",
       "  </thead>\n",
       "  <tbody>\n",
       "    <tr>\n",
       "      <th>0</th>\n",
       "      <td>536365</td>\n",
       "      <td>85123A</td>\n",
       "      <td>WHITE HANGING HEART T-LIGHT HOLDER</td>\n",
       "      <td>6</td>\n",
       "      <td>2010-12-01 08:26:00</td>\n",
       "      <td>2.55</td>\n",
       "      <td>17850.0</td>\n",
       "      <td>United Kingdom</td>\n",
       "      <td>12</td>\n",
       "      <td>2010-12-01</td>\n",
       "    </tr>\n",
       "    <tr>\n",
       "      <th>1</th>\n",
       "      <td>536365</td>\n",
       "      <td>71053</td>\n",
       "      <td>WHITE METAL LANTERN</td>\n",
       "      <td>6</td>\n",
       "      <td>2010-12-01 08:26:00</td>\n",
       "      <td>3.39</td>\n",
       "      <td>17850.0</td>\n",
       "      <td>United Kingdom</td>\n",
       "      <td>12</td>\n",
       "      <td>2010-12-01</td>\n",
       "    </tr>\n",
       "    <tr>\n",
       "      <th>2</th>\n",
       "      <td>536365</td>\n",
       "      <td>84406B</td>\n",
       "      <td>CREAM CUPID HEARTS COAT HANGER</td>\n",
       "      <td>8</td>\n",
       "      <td>2010-12-01 08:26:00</td>\n",
       "      <td>2.75</td>\n",
       "      <td>17850.0</td>\n",
       "      <td>United Kingdom</td>\n",
       "      <td>12</td>\n",
       "      <td>2010-12-01</td>\n",
       "    </tr>\n",
       "    <tr>\n",
       "      <th>3</th>\n",
       "      <td>536365</td>\n",
       "      <td>84029G</td>\n",
       "      <td>KNITTED UNION FLAG HOT WATER BOTTLE</td>\n",
       "      <td>6</td>\n",
       "      <td>2010-12-01 08:26:00</td>\n",
       "      <td>3.39</td>\n",
       "      <td>17850.0</td>\n",
       "      <td>United Kingdom</td>\n",
       "      <td>12</td>\n",
       "      <td>2010-12-01</td>\n",
       "    </tr>\n",
       "    <tr>\n",
       "      <th>4</th>\n",
       "      <td>536365</td>\n",
       "      <td>84029E</td>\n",
       "      <td>RED WOOLLY HOTTIE WHITE HEART.</td>\n",
       "      <td>6</td>\n",
       "      <td>2010-12-01 08:26:00</td>\n",
       "      <td>3.39</td>\n",
       "      <td>17850.0</td>\n",
       "      <td>United Kingdom</td>\n",
       "      <td>12</td>\n",
       "      <td>2010-12-01</td>\n",
       "    </tr>\n",
       "  </tbody>\n",
       "</table>\n",
       "</div>"
      ],
      "text/plain": [
       "  InvoiceNo StockCode                          Description  Quantity  \\\n",
       "0    536365    85123A   WHITE HANGING HEART T-LIGHT HOLDER         6   \n",
       "1    536365     71053                  WHITE METAL LANTERN         6   \n",
       "2    536365    84406B       CREAM CUPID HEARTS COAT HANGER         8   \n",
       "3    536365    84029G  KNITTED UNION FLAG HOT WATER BOTTLE         6   \n",
       "4    536365    84029E       RED WOOLLY HOTTIE WHITE HEART.         6   \n",
       "\n",
       "          InvoiceDate  UnitPrice  CustomerID         Country  Month  \\\n",
       "0 2010-12-01 08:26:00       2.55     17850.0  United Kingdom     12   \n",
       "1 2010-12-01 08:26:00       3.39     17850.0  United Kingdom     12   \n",
       "2 2010-12-01 08:26:00       2.75     17850.0  United Kingdom     12   \n",
       "3 2010-12-01 08:26:00       3.39     17850.0  United Kingdom     12   \n",
       "4 2010-12-01 08:26:00       3.39     17850.0  United Kingdom     12   \n",
       "\n",
       "         Date  \n",
       "0  2010-12-01  \n",
       "1  2010-12-01  \n",
       "2  2010-12-01  \n",
       "3  2010-12-01  \n",
       "4  2010-12-01  "
      ]
     },
     "execution_count": 17,
     "metadata": {},
     "output_type": "execute_result"
    }
   ],
   "source": [
    "data_copy.head()"
   ]
  },
  {
   "cell_type": "code",
   "execution_count": 18,
   "id": "ca740ce8",
   "metadata": {},
   "outputs": [
    {
     "name": "stdout",
     "output_type": "stream",
     "text": [
      "<class 'pandas.core.frame.DataFrame'>\n",
      "Int64Index: 406829 entries, 0 to 541908\n",
      "Data columns (total 10 columns):\n",
      " #   Column       Non-Null Count   Dtype         \n",
      "---  ------       --------------   -----         \n",
      " 0   InvoiceNo    406829 non-null  object        \n",
      " 1   StockCode    406829 non-null  object        \n",
      " 2   Description  406829 non-null  object        \n",
      " 3   Quantity     406829 non-null  int64         \n",
      " 4   InvoiceDate  406829 non-null  datetime64[ns]\n",
      " 5   UnitPrice    406829 non-null  float64       \n",
      " 6   CustomerID   406829 non-null  float64       \n",
      " 7   Country      406829 non-null  object        \n",
      " 8   Month        406829 non-null  int64         \n",
      " 9   Date         406829 non-null  object        \n",
      "dtypes: datetime64[ns](1), float64(2), int64(2), object(5)\n",
      "memory usage: 34.1+ MB\n"
     ]
    }
   ],
   "source": [
    "data_copy.info()"
   ]
  },
  {
   "cell_type": "code",
   "execution_count": 19,
   "id": "3766c5b6",
   "metadata": {},
   "outputs": [],
   "source": [
    "# convert date into datetime format\n",
    "data_copy['Date']=pd.to_datetime(data_copy['Date'])"
   ]
  },
  {
   "cell_type": "code",
   "execution_count": 20,
   "id": "91ded0ee",
   "metadata": {},
   "outputs": [],
   "source": [
    "# Counting the total customers who were present at the beginning of the sales month in the data\n",
    "customer_at_start = data_copy.loc[(data_copy['Date'] >= '2010-12-01') & (data_copy['Date'] <= '2010-12-31')]['CustomerID'].nunique()\n",
    "# for the customer count for the end I am going to count the customer who are active in the date from 2011-12-09\n",
    "customer_at_end=data_copy.loc[(data_copy['Date'] >= '2011-11-01') & (data_copy['Date'] <= '2011-12-09')]['CustomerID'].nunique()\n"
   ]
  },
  {
   "cell_type": "code",
   "execution_count": 21,
   "id": "c195b06c",
   "metadata": {},
   "outputs": [
    {
     "data": {
      "text/plain": [
       "(948, 1954)"
      ]
     },
     "execution_count": 21,
     "metadata": {},
     "output_type": "execute_result"
    }
   ],
   "source": [
    "customer_at_start, customer_at_end"
   ]
  },
  {
   "cell_type": "code",
   "execution_count": 22,
   "id": "22adb3ba",
   "metadata": {},
   "outputs": [
    {
     "name": "stdout",
     "output_type": "stream",
     "text": [
      "The retention rate for the whole period is:100.00%\n"
     ]
    }
   ],
   "source": [
    "# calculating the retention rate\n",
    "new_customer_acquired=customer_at_end-customer_at_start\n",
    "retention_rate=((customer_at_end - new_customer_acquired)/customer_at_start)*100\n",
    "# print the retention rate \n",
    "print(f\"The retention rate for the whole period is:{retention_rate:.2f}%\")"
   ]
  },
  {
   "cell_type": "markdown",
   "id": "63dd9dd8",
   "metadata": {},
   "source": [
    "It was impressive that the retention rate was 100% which means that there is 0% churn rate.\n",
    "\n"
   ]
  },
  {
   "cell_type": "markdown",
   "id": "45560658",
   "metadata": {},
   "source": [
    "# 4. Model development"
   ]
  },
  {
   "cell_type": "markdown",
   "id": "c3fd34b0",
   "metadata": {},
   "source": [
    "For RFM analysis first step is to calculate the Recency, then Frequency and Monetary.\n",
    "\n",
    "Recency: How recently has the customer made a transaction\n",
    "\n",
    "Frequency: How frequent is the customer in ordering/buying some product\n",
    "\n",
    "Monetary: How much does the customer spend on purchasing products."
   ]
  },
  {
   "cell_type": "code",
   "execution_count": 23,
   "id": "ccae2332",
   "metadata": {
    "scrolled": true
   },
   "outputs": [
    {
     "data": {
      "text/html": [
       "<div>\n",
       "<style scoped>\n",
       "    .dataframe tbody tr th:only-of-type {\n",
       "        vertical-align: middle;\n",
       "    }\n",
       "\n",
       "    .dataframe tbody tr th {\n",
       "        vertical-align: top;\n",
       "    }\n",
       "\n",
       "    .dataframe thead th {\n",
       "        text-align: right;\n",
       "    }\n",
       "</style>\n",
       "<table border=\"1\" class=\"dataframe\">\n",
       "  <thead>\n",
       "    <tr style=\"text-align: right;\">\n",
       "      <th></th>\n",
       "      <th>InvoiceNo</th>\n",
       "      <th>StockCode</th>\n",
       "      <th>Description</th>\n",
       "      <th>Quantity</th>\n",
       "      <th>InvoiceDate</th>\n",
       "      <th>UnitPrice</th>\n",
       "      <th>CustomerID</th>\n",
       "      <th>Country</th>\n",
       "      <th>Month</th>\n",
       "      <th>Date</th>\n",
       "    </tr>\n",
       "  </thead>\n",
       "  <tbody>\n",
       "    <tr>\n",
       "      <th>0</th>\n",
       "      <td>536365</td>\n",
       "      <td>85123A</td>\n",
       "      <td>WHITE HANGING HEART T-LIGHT HOLDER</td>\n",
       "      <td>6</td>\n",
       "      <td>2010-12-01 08:26:00</td>\n",
       "      <td>2.55</td>\n",
       "      <td>17850.0</td>\n",
       "      <td>United Kingdom</td>\n",
       "      <td>12</td>\n",
       "      <td>2010-12-01</td>\n",
       "    </tr>\n",
       "    <tr>\n",
       "      <th>1</th>\n",
       "      <td>536365</td>\n",
       "      <td>71053</td>\n",
       "      <td>WHITE METAL LANTERN</td>\n",
       "      <td>6</td>\n",
       "      <td>2010-12-01 08:26:00</td>\n",
       "      <td>3.39</td>\n",
       "      <td>17850.0</td>\n",
       "      <td>United Kingdom</td>\n",
       "      <td>12</td>\n",
       "      <td>2010-12-01</td>\n",
       "    </tr>\n",
       "    <tr>\n",
       "      <th>2</th>\n",
       "      <td>536365</td>\n",
       "      <td>84406B</td>\n",
       "      <td>CREAM CUPID HEARTS COAT HANGER</td>\n",
       "      <td>8</td>\n",
       "      <td>2010-12-01 08:26:00</td>\n",
       "      <td>2.75</td>\n",
       "      <td>17850.0</td>\n",
       "      <td>United Kingdom</td>\n",
       "      <td>12</td>\n",
       "      <td>2010-12-01</td>\n",
       "    </tr>\n",
       "    <tr>\n",
       "      <th>3</th>\n",
       "      <td>536365</td>\n",
       "      <td>84029G</td>\n",
       "      <td>KNITTED UNION FLAG HOT WATER BOTTLE</td>\n",
       "      <td>6</td>\n",
       "      <td>2010-12-01 08:26:00</td>\n",
       "      <td>3.39</td>\n",
       "      <td>17850.0</td>\n",
       "      <td>United Kingdom</td>\n",
       "      <td>12</td>\n",
       "      <td>2010-12-01</td>\n",
       "    </tr>\n",
       "    <tr>\n",
       "      <th>4</th>\n",
       "      <td>536365</td>\n",
       "      <td>84029E</td>\n",
       "      <td>RED WOOLLY HOTTIE WHITE HEART.</td>\n",
       "      <td>6</td>\n",
       "      <td>2010-12-01 08:26:00</td>\n",
       "      <td>3.39</td>\n",
       "      <td>17850.0</td>\n",
       "      <td>United Kingdom</td>\n",
       "      <td>12</td>\n",
       "      <td>2010-12-01</td>\n",
       "    </tr>\n",
       "  </tbody>\n",
       "</table>\n",
       "</div>"
      ],
      "text/plain": [
       "  InvoiceNo StockCode                          Description  Quantity  \\\n",
       "0    536365    85123A   WHITE HANGING HEART T-LIGHT HOLDER         6   \n",
       "1    536365     71053                  WHITE METAL LANTERN         6   \n",
       "2    536365    84406B       CREAM CUPID HEARTS COAT HANGER         8   \n",
       "3    536365    84029G  KNITTED UNION FLAG HOT WATER BOTTLE         6   \n",
       "4    536365    84029E       RED WOOLLY HOTTIE WHITE HEART.         6   \n",
       "\n",
       "          InvoiceDate  UnitPrice  CustomerID         Country  Month       Date  \n",
       "0 2010-12-01 08:26:00       2.55     17850.0  United Kingdom     12 2010-12-01  \n",
       "1 2010-12-01 08:26:00       3.39     17850.0  United Kingdom     12 2010-12-01  \n",
       "2 2010-12-01 08:26:00       2.75     17850.0  United Kingdom     12 2010-12-01  \n",
       "3 2010-12-01 08:26:00       3.39     17850.0  United Kingdom     12 2010-12-01  \n",
       "4 2010-12-01 08:26:00       3.39     17850.0  United Kingdom     12 2010-12-01  "
      ]
     },
     "execution_count": 23,
     "metadata": {},
     "output_type": "execute_result"
    }
   ],
   "source": [
    "data_copy.head()"
   ]
  },
  {
   "cell_type": "code",
   "execution_count": null,
   "id": "e6b4586c",
   "metadata": {},
   "outputs": [],
   "source": []
  },
  {
   "cell_type": "code",
   "execution_count": null,
   "id": "53dc6ba8",
   "metadata": {},
   "outputs": [],
   "source": []
  },
  {
   "cell_type": "markdown",
   "id": "d1dd8ab6",
   "metadata": {},
   "source": [
    "# calculating the recency"
   ]
  },
  {
   "cell_type": "code",
   "execution_count": 24,
   "id": "ec027c42",
   "metadata": {
    "scrolled": true
   },
   "outputs": [
    {
     "data": {
      "text/html": [
       "<div>\n",
       "<style scoped>\n",
       "    .dataframe tbody tr th:only-of-type {\n",
       "        vertical-align: middle;\n",
       "    }\n",
       "\n",
       "    .dataframe tbody tr th {\n",
       "        vertical-align: top;\n",
       "    }\n",
       "\n",
       "    .dataframe thead th {\n",
       "        text-align: right;\n",
       "    }\n",
       "</style>\n",
       "<table border=\"1\" class=\"dataframe\">\n",
       "  <thead>\n",
       "    <tr style=\"text-align: right;\">\n",
       "      <th></th>\n",
       "      <th>CustomerID</th>\n",
       "      <th>LastPurchaseDate</th>\n",
       "      <th>Recency</th>\n",
       "    </tr>\n",
       "  </thead>\n",
       "  <tbody>\n",
       "    <tr>\n",
       "      <th>0</th>\n",
       "      <td>12346.0</td>\n",
       "      <td>2011-01-18</td>\n",
       "      <td>325</td>\n",
       "    </tr>\n",
       "    <tr>\n",
       "      <th>1</th>\n",
       "      <td>12347.0</td>\n",
       "      <td>2011-12-07</td>\n",
       "      <td>2</td>\n",
       "    </tr>\n",
       "    <tr>\n",
       "      <th>2</th>\n",
       "      <td>12348.0</td>\n",
       "      <td>2011-09-25</td>\n",
       "      <td>75</td>\n",
       "    </tr>\n",
       "    <tr>\n",
       "      <th>3</th>\n",
       "      <td>12349.0</td>\n",
       "      <td>2011-11-21</td>\n",
       "      <td>18</td>\n",
       "    </tr>\n",
       "    <tr>\n",
       "      <th>4</th>\n",
       "      <td>12350.0</td>\n",
       "      <td>2011-02-02</td>\n",
       "      <td>310</td>\n",
       "    </tr>\n",
       "  </tbody>\n",
       "</table>\n",
       "</div>"
      ],
      "text/plain": [
       "   CustomerID LastPurchaseDate  Recency\n",
       "0     12346.0       2011-01-18      325\n",
       "1     12347.0       2011-12-07        2\n",
       "2     12348.0       2011-09-25       75\n",
       "3     12349.0       2011-11-21       18\n",
       "4     12350.0       2011-02-02      310"
      ]
     },
     "execution_count": 24,
     "metadata": {},
     "output_type": "execute_result"
    }
   ],
   "source": [
    "\n",
    "df_recency=data_copy.groupby(by='CustomerID', as_index=False)['Date'].max()\n",
    "\n",
    "df_recency.columns=['CustomerID','LastPurchaseDate']\n",
    "recent_date=df_recency['LastPurchaseDate'].max()\n",
    "df_recency['Recency']=df_recency['LastPurchaseDate'].apply(lambda x:(recent_date - x).days)\n",
    "df_recency.head()"
   ]
  },
  {
   "cell_type": "markdown",
   "id": "0cdd2a0b",
   "metadata": {},
   "source": [
    "# calculating Frequency"
   ]
  },
  {
   "cell_type": "code",
   "execution_count": 25,
   "id": "b1979041",
   "metadata": {},
   "outputs": [
    {
     "data": {
      "text/html": [
       "<div>\n",
       "<style scoped>\n",
       "    .dataframe tbody tr th:only-of-type {\n",
       "        vertical-align: middle;\n",
       "    }\n",
       "\n",
       "    .dataframe tbody tr th {\n",
       "        vertical-align: top;\n",
       "    }\n",
       "\n",
       "    .dataframe thead th {\n",
       "        text-align: right;\n",
       "    }\n",
       "</style>\n",
       "<table border=\"1\" class=\"dataframe\">\n",
       "  <thead>\n",
       "    <tr style=\"text-align: right;\">\n",
       "      <th></th>\n",
       "      <th>CustomerID</th>\n",
       "      <th>Frequency</th>\n",
       "    </tr>\n",
       "  </thead>\n",
       "  <tbody>\n",
       "    <tr>\n",
       "      <th>0</th>\n",
       "      <td>12346.0</td>\n",
       "      <td>2</td>\n",
       "    </tr>\n",
       "    <tr>\n",
       "      <th>1</th>\n",
       "      <td>12347.0</td>\n",
       "      <td>182</td>\n",
       "    </tr>\n",
       "    <tr>\n",
       "      <th>2</th>\n",
       "      <td>12348.0</td>\n",
       "      <td>31</td>\n",
       "    </tr>\n",
       "    <tr>\n",
       "      <th>3</th>\n",
       "      <td>12349.0</td>\n",
       "      <td>73</td>\n",
       "    </tr>\n",
       "    <tr>\n",
       "      <th>4</th>\n",
       "      <td>12350.0</td>\n",
       "      <td>17</td>\n",
       "    </tr>\n",
       "  </tbody>\n",
       "</table>\n",
       "</div>"
      ],
      "text/plain": [
       "   CustomerID  Frequency\n",
       "0     12346.0          2\n",
       "1     12347.0        182\n",
       "2     12348.0         31\n",
       "3     12349.0         73\n",
       "4     12350.0         17"
      ]
     },
     "execution_count": 25,
     "metadata": {},
     "output_type": "execute_result"
    }
   ],
   "source": [
    "frequency_df = data_copy.drop_duplicates().groupby(\n",
    "    by=['CustomerID'], as_index=False)['Date'].count()\n",
    "frequency_df.columns = ['CustomerID', 'Frequency']\n",
    "frequency_df.head()"
   ]
  },
  {
   "cell_type": "code",
   "execution_count": 26,
   "id": "65780899",
   "metadata": {},
   "outputs": [
    {
     "data": {
      "text/html": [
       "<div>\n",
       "<style scoped>\n",
       "    .dataframe tbody tr th:only-of-type {\n",
       "        vertical-align: middle;\n",
       "    }\n",
       "\n",
       "    .dataframe tbody tr th {\n",
       "        vertical-align: top;\n",
       "    }\n",
       "\n",
       "    .dataframe thead th {\n",
       "        text-align: right;\n",
       "    }\n",
       "</style>\n",
       "<table border=\"1\" class=\"dataframe\">\n",
       "  <thead>\n",
       "    <tr style=\"text-align: right;\">\n",
       "      <th></th>\n",
       "      <th>InvoiceNo</th>\n",
       "      <th>StockCode</th>\n",
       "      <th>Description</th>\n",
       "      <th>Quantity</th>\n",
       "      <th>InvoiceDate</th>\n",
       "      <th>UnitPrice</th>\n",
       "      <th>CustomerID</th>\n",
       "      <th>Country</th>\n",
       "      <th>Month</th>\n",
       "      <th>Date</th>\n",
       "    </tr>\n",
       "  </thead>\n",
       "  <tbody>\n",
       "    <tr>\n",
       "      <th>0</th>\n",
       "      <td>536365</td>\n",
       "      <td>85123A</td>\n",
       "      <td>WHITE HANGING HEART T-LIGHT HOLDER</td>\n",
       "      <td>6</td>\n",
       "      <td>2010-12-01 08:26:00</td>\n",
       "      <td>2.55</td>\n",
       "      <td>17850.0</td>\n",
       "      <td>United Kingdom</td>\n",
       "      <td>12</td>\n",
       "      <td>2010-12-01</td>\n",
       "    </tr>\n",
       "    <tr>\n",
       "      <th>1</th>\n",
       "      <td>536365</td>\n",
       "      <td>71053</td>\n",
       "      <td>WHITE METAL LANTERN</td>\n",
       "      <td>6</td>\n",
       "      <td>2010-12-01 08:26:00</td>\n",
       "      <td>3.39</td>\n",
       "      <td>17850.0</td>\n",
       "      <td>United Kingdom</td>\n",
       "      <td>12</td>\n",
       "      <td>2010-12-01</td>\n",
       "    </tr>\n",
       "    <tr>\n",
       "      <th>2</th>\n",
       "      <td>536365</td>\n",
       "      <td>84406B</td>\n",
       "      <td>CREAM CUPID HEARTS COAT HANGER</td>\n",
       "      <td>8</td>\n",
       "      <td>2010-12-01 08:26:00</td>\n",
       "      <td>2.75</td>\n",
       "      <td>17850.0</td>\n",
       "      <td>United Kingdom</td>\n",
       "      <td>12</td>\n",
       "      <td>2010-12-01</td>\n",
       "    </tr>\n",
       "    <tr>\n",
       "      <th>3</th>\n",
       "      <td>536365</td>\n",
       "      <td>84029G</td>\n",
       "      <td>KNITTED UNION FLAG HOT WATER BOTTLE</td>\n",
       "      <td>6</td>\n",
       "      <td>2010-12-01 08:26:00</td>\n",
       "      <td>3.39</td>\n",
       "      <td>17850.0</td>\n",
       "      <td>United Kingdom</td>\n",
       "      <td>12</td>\n",
       "      <td>2010-12-01</td>\n",
       "    </tr>\n",
       "    <tr>\n",
       "      <th>4</th>\n",
       "      <td>536365</td>\n",
       "      <td>84029E</td>\n",
       "      <td>RED WOOLLY HOTTIE WHITE HEART.</td>\n",
       "      <td>6</td>\n",
       "      <td>2010-12-01 08:26:00</td>\n",
       "      <td>3.39</td>\n",
       "      <td>17850.0</td>\n",
       "      <td>United Kingdom</td>\n",
       "      <td>12</td>\n",
       "      <td>2010-12-01</td>\n",
       "    </tr>\n",
       "  </tbody>\n",
       "</table>\n",
       "</div>"
      ],
      "text/plain": [
       "  InvoiceNo StockCode                          Description  Quantity  \\\n",
       "0    536365    85123A   WHITE HANGING HEART T-LIGHT HOLDER         6   \n",
       "1    536365     71053                  WHITE METAL LANTERN         6   \n",
       "2    536365    84406B       CREAM CUPID HEARTS COAT HANGER         8   \n",
       "3    536365    84029G  KNITTED UNION FLAG HOT WATER BOTTLE         6   \n",
       "4    536365    84029E       RED WOOLLY HOTTIE WHITE HEART.         6   \n",
       "\n",
       "          InvoiceDate  UnitPrice  CustomerID         Country  Month       Date  \n",
       "0 2010-12-01 08:26:00       2.55     17850.0  United Kingdom     12 2010-12-01  \n",
       "1 2010-12-01 08:26:00       3.39     17850.0  United Kingdom     12 2010-12-01  \n",
       "2 2010-12-01 08:26:00       2.75     17850.0  United Kingdom     12 2010-12-01  \n",
       "3 2010-12-01 08:26:00       3.39     17850.0  United Kingdom     12 2010-12-01  \n",
       "4 2010-12-01 08:26:00       3.39     17850.0  United Kingdom     12 2010-12-01  "
      ]
     },
     "execution_count": 26,
     "metadata": {},
     "output_type": "execute_result"
    }
   ],
   "source": [
    "data_copy.head()"
   ]
  },
  {
   "cell_type": "markdown",
   "id": "e8a5b5ae",
   "metadata": {},
   "source": [
    "# calculating the Monetary value"
   ]
  },
  {
   "cell_type": "code",
   "execution_count": 27,
   "id": "6f4acc62",
   "metadata": {},
   "outputs": [
    {
     "data": {
      "text/html": [
       "<div>\n",
       "<style scoped>\n",
       "    .dataframe tbody tr th:only-of-type {\n",
       "        vertical-align: middle;\n",
       "    }\n",
       "\n",
       "    .dataframe tbody tr th {\n",
       "        vertical-align: top;\n",
       "    }\n",
       "\n",
       "    .dataframe thead th {\n",
       "        text-align: right;\n",
       "    }\n",
       "</style>\n",
       "<table border=\"1\" class=\"dataframe\">\n",
       "  <thead>\n",
       "    <tr style=\"text-align: right;\">\n",
       "      <th></th>\n",
       "      <th>CustomerID</th>\n",
       "      <th>Monetary</th>\n",
       "    </tr>\n",
       "  </thead>\n",
       "  <tbody>\n",
       "    <tr>\n",
       "      <th>0</th>\n",
       "      <td>12346.0</td>\n",
       "      <td>0.00</td>\n",
       "    </tr>\n",
       "    <tr>\n",
       "      <th>1</th>\n",
       "      <td>12347.0</td>\n",
       "      <td>4310.00</td>\n",
       "    </tr>\n",
       "    <tr>\n",
       "      <th>2</th>\n",
       "      <td>12348.0</td>\n",
       "      <td>1797.24</td>\n",
       "    </tr>\n",
       "    <tr>\n",
       "      <th>3</th>\n",
       "      <td>12349.0</td>\n",
       "      <td>1757.55</td>\n",
       "    </tr>\n",
       "    <tr>\n",
       "      <th>4</th>\n",
       "      <td>12350.0</td>\n",
       "      <td>334.40</td>\n",
       "    </tr>\n",
       "  </tbody>\n",
       "</table>\n",
       "</div>"
      ],
      "text/plain": [
       "   CustomerID  Monetary\n",
       "0     12346.0      0.00\n",
       "1     12347.0   4310.00\n",
       "2     12348.0   1797.24\n",
       "3     12349.0   1757.55\n",
       "4     12350.0    334.40"
      ]
     },
     "execution_count": 27,
     "metadata": {},
     "output_type": "execute_result"
    }
   ],
   "source": [
    "\n",
    "data_copy['Total'] = data_copy['UnitPrice']*data_copy['Quantity']\n",
    "monetary_df = data_copy.groupby(by='CustomerID', as_index=False)['Total'].sum()\n",
    "monetary_df.columns = ['CustomerID', 'Monetary']\n",
    "monetary_df.head()"
   ]
  },
  {
   "cell_type": "markdown",
   "id": "4329bcaf",
   "metadata": {},
   "source": [
    "# Merging all three columns in one Data frame\n"
   ]
  },
  {
   "cell_type": "code",
   "execution_count": 28,
   "id": "d1d9b4f4",
   "metadata": {},
   "outputs": [
    {
     "data": {
      "text/html": [
       "<div>\n",
       "<style scoped>\n",
       "    .dataframe tbody tr th:only-of-type {\n",
       "        vertical-align: middle;\n",
       "    }\n",
       "\n",
       "    .dataframe tbody tr th {\n",
       "        vertical-align: top;\n",
       "    }\n",
       "\n",
       "    .dataframe thead th {\n",
       "        text-align: right;\n",
       "    }\n",
       "</style>\n",
       "<table border=\"1\" class=\"dataframe\">\n",
       "  <thead>\n",
       "    <tr style=\"text-align: right;\">\n",
       "      <th></th>\n",
       "      <th>CustomerID</th>\n",
       "      <th>Recency</th>\n",
       "      <th>Frequency</th>\n",
       "      <th>Monetary</th>\n",
       "    </tr>\n",
       "  </thead>\n",
       "  <tbody>\n",
       "    <tr>\n",
       "      <th>0</th>\n",
       "      <td>12346.0</td>\n",
       "      <td>325</td>\n",
       "      <td>2</td>\n",
       "      <td>0.00</td>\n",
       "    </tr>\n",
       "    <tr>\n",
       "      <th>1</th>\n",
       "      <td>12347.0</td>\n",
       "      <td>2</td>\n",
       "      <td>182</td>\n",
       "      <td>4310.00</td>\n",
       "    </tr>\n",
       "    <tr>\n",
       "      <th>2</th>\n",
       "      <td>12348.0</td>\n",
       "      <td>75</td>\n",
       "      <td>31</td>\n",
       "      <td>1797.24</td>\n",
       "    </tr>\n",
       "    <tr>\n",
       "      <th>3</th>\n",
       "      <td>12349.0</td>\n",
       "      <td>18</td>\n",
       "      <td>73</td>\n",
       "      <td>1757.55</td>\n",
       "    </tr>\n",
       "    <tr>\n",
       "      <th>4</th>\n",
       "      <td>12350.0</td>\n",
       "      <td>310</td>\n",
       "      <td>17</td>\n",
       "      <td>334.40</td>\n",
       "    </tr>\n",
       "  </tbody>\n",
       "</table>\n",
       "</div>"
      ],
      "text/plain": [
       "   CustomerID  Recency  Frequency  Monetary\n",
       "0     12346.0      325          2      0.00\n",
       "1     12347.0        2        182   4310.00\n",
       "2     12348.0       75         31   1797.24\n",
       "3     12349.0       18         73   1757.55\n",
       "4     12350.0      310         17    334.40"
      ]
     },
     "execution_count": 28,
     "metadata": {},
     "output_type": "execute_result"
    }
   ],
   "source": [
    "rf_df=df_recency.merge(frequency_df, on='CustomerID')\n",
    "rfm_df=rf_df.merge(monetary_df, on='CustomerID').drop(columns='LastPurchaseDate')\n",
    "rfm_df.head()"
   ]
  },
  {
   "cell_type": "markdown",
   "id": "bfdb76c4",
   "metadata": {},
   "source": [
    "Now we have all three values in one dataframe"
   ]
  },
  {
   "cell_type": "markdown",
   "id": "e06d6762",
   "metadata": {},
   "source": [
    "To rank the customer based on the RFM values here I am going to divide the dataset into 5 quartiles to do that I have here used pandas qcut function which will automatically divide the data into 5 quartile and assign the given labels based on their recency, frequency and Monetary values."
   ]
  },
  {
   "cell_type": "code",
   "execution_count": 29,
   "id": "ba333763",
   "metadata": {},
   "outputs": [
    {
     "name": "stdout",
     "output_type": "stream",
     "text": [
      "      CustomerID  Recency  Frequency  Monetary  R  F  M\n",
      "0        12346.0      325          2      0.00  1  1  1\n",
      "1        12347.0        2        182   4310.00  5  5  5\n",
      "2        12348.0       75         31   1797.24  2  3  4\n",
      "3        12349.0       18         73   1757.55  4  4  4\n",
      "4        12350.0      310         17    334.40  1  2  2\n",
      "...          ...      ...        ...       ... .. .. ..\n",
      "4367     18280.0      277         10    180.60  1  1  1\n",
      "4368     18281.0      180          7     80.82  1  1  1\n",
      "4369     18282.0        7         13    176.60  5  1  1\n",
      "4370     18283.0        3        721   2094.88  5  5  5\n",
      "4371     18287.0       42         70   1837.28  3  4  4\n",
      "\n",
      "[4372 rows x 7 columns]\n"
     ]
    }
   ],
   "source": [
    "r=pd.qcut(rfm_df['Recency'], q=5, labels=range(5,0,-1)) \n",
    "f=pd.qcut(rfm_df['Frequency'], q=5, labels=range(1,6)) \n",
    "m=pd.qcut(rfm_df['Monetary'], q=5, labels=range(1,6))\n",
    "\n",
    "rfm=rfm_df.assign(R=r.values, F=f.values, M=m.values)\n",
    "print(rfm)"
   ]
  },
  {
   "cell_type": "markdown",
   "id": "42e174f7",
   "metadata": {},
   "source": [
    "Here we have got RFM values:\n",
    "    \n",
    "Note:\n",
    "\n",
    "    * For R value higher value means most recent customer lower means customer who bought something after long time or they didn't but it\n",
    "    \n",
    "    * For F and M higher score means more recent and more spending"
   ]
  },
  {
   "cell_type": "code",
   "execution_count": 30,
   "id": "d6e34218",
   "metadata": {},
   "outputs": [
    {
     "data": {
      "text/html": [
       "<div>\n",
       "<style scoped>\n",
       "    .dataframe tbody tr th:only-of-type {\n",
       "        vertical-align: middle;\n",
       "    }\n",
       "\n",
       "    .dataframe tbody tr th {\n",
       "        vertical-align: top;\n",
       "    }\n",
       "\n",
       "    .dataframe thead th {\n",
       "        text-align: right;\n",
       "    }\n",
       "</style>\n",
       "<table border=\"1\" class=\"dataframe\">\n",
       "  <thead>\n",
       "    <tr style=\"text-align: right;\">\n",
       "      <th></th>\n",
       "      <th>CustomerID</th>\n",
       "      <th>Recency</th>\n",
       "      <th>Frequency</th>\n",
       "      <th>Monetary</th>\n",
       "      <th>R</th>\n",
       "      <th>F</th>\n",
       "      <th>M</th>\n",
       "      <th>RFM_segment</th>\n",
       "    </tr>\n",
       "  </thead>\n",
       "  <tbody>\n",
       "    <tr>\n",
       "      <th>0</th>\n",
       "      <td>12346.0</td>\n",
       "      <td>325</td>\n",
       "      <td>2</td>\n",
       "      <td>0.00</td>\n",
       "      <td>1</td>\n",
       "      <td>1</td>\n",
       "      <td>1</td>\n",
       "      <td>111</td>\n",
       "    </tr>\n",
       "    <tr>\n",
       "      <th>1</th>\n",
       "      <td>12347.0</td>\n",
       "      <td>2</td>\n",
       "      <td>182</td>\n",
       "      <td>4310.00</td>\n",
       "      <td>5</td>\n",
       "      <td>5</td>\n",
       "      <td>5</td>\n",
       "      <td>555</td>\n",
       "    </tr>\n",
       "    <tr>\n",
       "      <th>2</th>\n",
       "      <td>12348.0</td>\n",
       "      <td>75</td>\n",
       "      <td>31</td>\n",
       "      <td>1797.24</td>\n",
       "      <td>2</td>\n",
       "      <td>3</td>\n",
       "      <td>4</td>\n",
       "      <td>234</td>\n",
       "    </tr>\n",
       "    <tr>\n",
       "      <th>3</th>\n",
       "      <td>12349.0</td>\n",
       "      <td>18</td>\n",
       "      <td>73</td>\n",
       "      <td>1757.55</td>\n",
       "      <td>4</td>\n",
       "      <td>4</td>\n",
       "      <td>4</td>\n",
       "      <td>444</td>\n",
       "    </tr>\n",
       "    <tr>\n",
       "      <th>4</th>\n",
       "      <td>12350.0</td>\n",
       "      <td>310</td>\n",
       "      <td>17</td>\n",
       "      <td>334.40</td>\n",
       "      <td>1</td>\n",
       "      <td>2</td>\n",
       "      <td>2</td>\n",
       "      <td>122</td>\n",
       "    </tr>\n",
       "  </tbody>\n",
       "</table>\n",
       "</div>"
      ],
      "text/plain": [
       "   CustomerID  Recency  Frequency  Monetary  R  F  M RFM_segment\n",
       "0     12346.0      325          2      0.00  1  1  1         111\n",
       "1     12347.0        2        182   4310.00  5  5  5         555\n",
       "2     12348.0       75         31   1797.24  2  3  4         234\n",
       "3     12349.0       18         73   1757.55  4  4  4         444\n",
       "4     12350.0      310         17    334.40  1  2  2         122"
      ]
     },
     "execution_count": 30,
     "metadata": {},
     "output_type": "execute_result"
    }
   ],
   "source": [
    "# Now here we will calculate the RFM score at first segmenting the RFM quartile values to create RFM segments\n",
    "rfm['RFM_segment']= rfm.R.astype(str)+rfm.F.astype(str)+rfm.M.astype(str)\n",
    "rfm.head()"
   ]
  },
  {
   "cell_type": "markdown",
   "id": "cd9627a3",
   "metadata": {},
   "source": [
    "We have our RFM segments to calculate the RFM score here we will count the unique segments."
   ]
  },
  {
   "cell_type": "code",
   "execution_count": 31,
   "id": "ae802e31",
   "metadata": {
    "scrolled": true
   },
   "outputs": [
    {
     "name": "stdout",
     "output_type": "stream",
     "text": [
      "119\n"
     ]
    }
   ],
   "source": [
    "rfm_quique_count=rfm.groupby('RFM_segment')['RFM_segment'].nunique()\n",
    "print(rfm_quique_count.sum())"
   ]
  },
  {
   "cell_type": "markdown",
   "id": "e76696fc",
   "metadata": {},
   "source": [
    "There are 119 unique RFM segments"
   ]
  },
  {
   "cell_type": "code",
   "execution_count": 32,
   "id": "a5cabf43",
   "metadata": {},
   "outputs": [
    {
     "data": {
      "text/html": [
       "<div>\n",
       "<style scoped>\n",
       "    .dataframe tbody tr th:only-of-type {\n",
       "        vertical-align: middle;\n",
       "    }\n",
       "\n",
       "    .dataframe tbody tr th {\n",
       "        vertical-align: top;\n",
       "    }\n",
       "\n",
       "    .dataframe thead th {\n",
       "        text-align: right;\n",
       "    }\n",
       "</style>\n",
       "<table border=\"1\" class=\"dataframe\">\n",
       "  <thead>\n",
       "    <tr style=\"text-align: right;\">\n",
       "      <th></th>\n",
       "      <th>CustomerID</th>\n",
       "      <th>Recency</th>\n",
       "      <th>Frequency</th>\n",
       "      <th>Monetary</th>\n",
       "      <th>R</th>\n",
       "      <th>F</th>\n",
       "      <th>M</th>\n",
       "      <th>RFM_segment</th>\n",
       "      <th>RFM_score</th>\n",
       "    </tr>\n",
       "  </thead>\n",
       "  <tbody>\n",
       "    <tr>\n",
       "      <th>0</th>\n",
       "      <td>12346.0</td>\n",
       "      <td>325</td>\n",
       "      <td>2</td>\n",
       "      <td>0.00</td>\n",
       "      <td>1</td>\n",
       "      <td>1</td>\n",
       "      <td>1</td>\n",
       "      <td>111</td>\n",
       "      <td>3</td>\n",
       "    </tr>\n",
       "    <tr>\n",
       "      <th>1</th>\n",
       "      <td>12347.0</td>\n",
       "      <td>2</td>\n",
       "      <td>182</td>\n",
       "      <td>4310.00</td>\n",
       "      <td>5</td>\n",
       "      <td>5</td>\n",
       "      <td>5</td>\n",
       "      <td>555</td>\n",
       "      <td>15</td>\n",
       "    </tr>\n",
       "    <tr>\n",
       "      <th>2</th>\n",
       "      <td>12348.0</td>\n",
       "      <td>75</td>\n",
       "      <td>31</td>\n",
       "      <td>1797.24</td>\n",
       "      <td>2</td>\n",
       "      <td>3</td>\n",
       "      <td>4</td>\n",
       "      <td>234</td>\n",
       "      <td>9</td>\n",
       "    </tr>\n",
       "    <tr>\n",
       "      <th>3</th>\n",
       "      <td>12349.0</td>\n",
       "      <td>18</td>\n",
       "      <td>73</td>\n",
       "      <td>1757.55</td>\n",
       "      <td>4</td>\n",
       "      <td>4</td>\n",
       "      <td>4</td>\n",
       "      <td>444</td>\n",
       "      <td>12</td>\n",
       "    </tr>\n",
       "    <tr>\n",
       "      <th>4</th>\n",
       "      <td>12350.0</td>\n",
       "      <td>310</td>\n",
       "      <td>17</td>\n",
       "      <td>334.40</td>\n",
       "      <td>1</td>\n",
       "      <td>2</td>\n",
       "      <td>2</td>\n",
       "      <td>122</td>\n",
       "      <td>5</td>\n",
       "    </tr>\n",
       "    <tr>\n",
       "      <th>...</th>\n",
       "      <td>...</td>\n",
       "      <td>...</td>\n",
       "      <td>...</td>\n",
       "      <td>...</td>\n",
       "      <td>...</td>\n",
       "      <td>...</td>\n",
       "      <td>...</td>\n",
       "      <td>...</td>\n",
       "      <td>...</td>\n",
       "    </tr>\n",
       "    <tr>\n",
       "      <th>4367</th>\n",
       "      <td>18280.0</td>\n",
       "      <td>277</td>\n",
       "      <td>10</td>\n",
       "      <td>180.60</td>\n",
       "      <td>1</td>\n",
       "      <td>1</td>\n",
       "      <td>1</td>\n",
       "      <td>111</td>\n",
       "      <td>3</td>\n",
       "    </tr>\n",
       "    <tr>\n",
       "      <th>4368</th>\n",
       "      <td>18281.0</td>\n",
       "      <td>180</td>\n",
       "      <td>7</td>\n",
       "      <td>80.82</td>\n",
       "      <td>1</td>\n",
       "      <td>1</td>\n",
       "      <td>1</td>\n",
       "      <td>111</td>\n",
       "      <td>3</td>\n",
       "    </tr>\n",
       "    <tr>\n",
       "      <th>4369</th>\n",
       "      <td>18282.0</td>\n",
       "      <td>7</td>\n",
       "      <td>13</td>\n",
       "      <td>176.60</td>\n",
       "      <td>5</td>\n",
       "      <td>1</td>\n",
       "      <td>1</td>\n",
       "      <td>511</td>\n",
       "      <td>7</td>\n",
       "    </tr>\n",
       "    <tr>\n",
       "      <th>4370</th>\n",
       "      <td>18283.0</td>\n",
       "      <td>3</td>\n",
       "      <td>721</td>\n",
       "      <td>2094.88</td>\n",
       "      <td>5</td>\n",
       "      <td>5</td>\n",
       "      <td>5</td>\n",
       "      <td>555</td>\n",
       "      <td>15</td>\n",
       "    </tr>\n",
       "    <tr>\n",
       "      <th>4371</th>\n",
       "      <td>18287.0</td>\n",
       "      <td>42</td>\n",
       "      <td>70</td>\n",
       "      <td>1837.28</td>\n",
       "      <td>3</td>\n",
       "      <td>4</td>\n",
       "      <td>4</td>\n",
       "      <td>344</td>\n",
       "      <td>11</td>\n",
       "    </tr>\n",
       "  </tbody>\n",
       "</table>\n",
       "<p>4372 rows × 9 columns</p>\n",
       "</div>"
      ],
      "text/plain": [
       "      CustomerID  Recency  Frequency  Monetary  R  F  M RFM_segment  RFM_score\n",
       "0        12346.0      325          2      0.00  1  1  1         111          3\n",
       "1        12347.0        2        182   4310.00  5  5  5         555         15\n",
       "2        12348.0       75         31   1797.24  2  3  4         234          9\n",
       "3        12349.0       18         73   1757.55  4  4  4         444         12\n",
       "4        12350.0      310         17    334.40  1  2  2         122          5\n",
       "...          ...      ...        ...       ... .. .. ..         ...        ...\n",
       "4367     18280.0      277         10    180.60  1  1  1         111          3\n",
       "4368     18281.0      180          7     80.82  1  1  1         111          3\n",
       "4369     18282.0        7         13    176.60  5  1  1         511          7\n",
       "4370     18283.0        3        721   2094.88  5  5  5         555         15\n",
       "4371     18287.0       42         70   1837.28  3  4  4         344         11\n",
       "\n",
       "[4372 rows x 9 columns]"
      ]
     },
     "execution_count": 32,
     "metadata": {},
     "output_type": "execute_result"
    }
   ],
   "source": [
    "# calculate the RFM score\n",
    "rfm['RFM_score']=rfm[['R','F','M']].sum(axis=1)\n",
    "rfm"
   ]
  },
  {
   "cell_type": "markdown",
   "id": "d5ea8311",
   "metadata": {},
   "source": [
    "# let's analyse the segments\n",
    "since the range of value of R, F and M are in the 1 to 5 which means the most valueable customer will be the customer whose RFM score is either 555 or RFM score of 15"
   ]
  },
  {
   "cell_type": "code",
   "execution_count": 33,
   "id": "e178a1cb",
   "metadata": {
    "scrolled": true
   },
   "outputs": [
    {
     "data": {
      "text/html": [
       "<div>\n",
       "<style scoped>\n",
       "    .dataframe tbody tr th:only-of-type {\n",
       "        vertical-align: middle;\n",
       "    }\n",
       "\n",
       "    .dataframe tbody tr th {\n",
       "        vertical-align: top;\n",
       "    }\n",
       "\n",
       "    .dataframe thead th {\n",
       "        text-align: right;\n",
       "    }\n",
       "</style>\n",
       "<table border=\"1\" class=\"dataframe\">\n",
       "  <thead>\n",
       "    <tr style=\"text-align: right;\">\n",
       "      <th></th>\n",
       "      <th>CustomerID</th>\n",
       "      <th>Recency</th>\n",
       "      <th>Frequency</th>\n",
       "      <th>Monetary</th>\n",
       "      <th>RFM_score</th>\n",
       "    </tr>\n",
       "  </thead>\n",
       "  <tbody>\n",
       "    <tr>\n",
       "      <th>count</th>\n",
       "      <td>4372.000000</td>\n",
       "      <td>4372.000000</td>\n",
       "      <td>4372.000000</td>\n",
       "      <td>4372.000000</td>\n",
       "      <td>4372.000000</td>\n",
       "    </tr>\n",
       "    <tr>\n",
       "      <th>mean</th>\n",
       "      <td>15299.677722</td>\n",
       "      <td>91.581199</td>\n",
       "      <td>91.858188</td>\n",
       "      <td>1898.459701</td>\n",
       "      <td>8.997941</td>\n",
       "    </tr>\n",
       "    <tr>\n",
       "      <th>std</th>\n",
       "      <td>1722.390705</td>\n",
       "      <td>100.772139</td>\n",
       "      <td>229.223566</td>\n",
       "      <td>8219.345141</td>\n",
       "      <td>3.605804</td>\n",
       "    </tr>\n",
       "    <tr>\n",
       "      <th>min</th>\n",
       "      <td>12346.000000</td>\n",
       "      <td>0.000000</td>\n",
       "      <td>1.000000</td>\n",
       "      <td>-4287.630000</td>\n",
       "      <td>3.000000</td>\n",
       "    </tr>\n",
       "    <tr>\n",
       "      <th>25%</th>\n",
       "      <td>13812.750000</td>\n",
       "      <td>16.000000</td>\n",
       "      <td>17.000000</td>\n",
       "      <td>293.362500</td>\n",
       "      <td>6.000000</td>\n",
       "    </tr>\n",
       "    <tr>\n",
       "      <th>50%</th>\n",
       "      <td>15300.500000</td>\n",
       "      <td>50.000000</td>\n",
       "      <td>41.000000</td>\n",
       "      <td>648.075000</td>\n",
       "      <td>9.000000</td>\n",
       "    </tr>\n",
       "    <tr>\n",
       "      <th>75%</th>\n",
       "      <td>16778.250000</td>\n",
       "      <td>143.000000</td>\n",
       "      <td>99.250000</td>\n",
       "      <td>1611.725000</td>\n",
       "      <td>12.000000</td>\n",
       "    </tr>\n",
       "    <tr>\n",
       "      <th>max</th>\n",
       "      <td>18287.000000</td>\n",
       "      <td>373.000000</td>\n",
       "      <td>7812.000000</td>\n",
       "      <td>279489.020000</td>\n",
       "      <td>15.000000</td>\n",
       "    </tr>\n",
       "  </tbody>\n",
       "</table>\n",
       "</div>"
      ],
      "text/plain": [
       "         CustomerID      Recency    Frequency       Monetary    RFM_score\n",
       "count   4372.000000  4372.000000  4372.000000    4372.000000  4372.000000\n",
       "mean   15299.677722    91.581199    91.858188    1898.459701     8.997941\n",
       "std     1722.390705   100.772139   229.223566    8219.345141     3.605804\n",
       "min    12346.000000     0.000000     1.000000   -4287.630000     3.000000\n",
       "25%    13812.750000    16.000000    17.000000     293.362500     6.000000\n",
       "50%    15300.500000    50.000000    41.000000     648.075000     9.000000\n",
       "75%    16778.250000   143.000000    99.250000    1611.725000    12.000000\n",
       "max    18287.000000   373.000000  7812.000000  279489.020000    15.000000"
      ]
     },
     "execution_count": 33,
     "metadata": {},
     "output_type": "execute_result"
    }
   ],
   "source": [
    "rfm.describe()"
   ]
  },
  {
   "cell_type": "markdown",
   "id": "877ada80",
   "metadata": {},
   "source": [
    "Let's find out the different segments of customer"
   ]
  },
  {
   "cell_type": "code",
   "execution_count": 34,
   "id": "cb94b45f",
   "metadata": {},
   "outputs": [
    {
     "data": {
      "image/png": "[encoded data removed]",
      "text/plain": [
       "<Figure size 640x480 with 1 Axes>"
      ]
     },
     "metadata": {},
     "output_type": "display_data"
    }
   ],
   "source": [
    "rfm['RFM_segment'].value_counts(ascending=False).head(20).plot(kind='bar')\n",
    "plt.title('Higher segments')\n",
    "plt.show()"
   ]
  },
  {
   "cell_type": "code",
   "execution_count": 35,
   "id": "c7a2c2ab",
   "metadata": {},
   "outputs": [
    {
     "data": {
      "image/png": "[encoded data removed]",
      "text/plain": [
       "<Figure size 640x480 with 1 Axes>"
      ]
     },
     "metadata": {},
     "output_type": "display_data"
    }
   ],
   "source": [
    "rfm['RFM_segment'].value_counts(ascending=True).head(20).plot(kind='bar')\n",
    "plt.title('Lower segments')\n",
    "plt.show()"
   ]
  },
  {
   "cell_type": "markdown",
   "id": "16260f9b",
   "metadata": {},
   "source": [
    "# using clustering techniques to group the cluster based on the features"
   ]
  },
  {
   "cell_type": "markdown",
   "id": "612e6a9a",
   "metadata": {},
   "source": [
    "steps: \n",
    "    \n",
    "* Data preparation\n",
    "* Finding the optimum clusters \n",
    "* Analysing the clusters"
   ]
  },
  {
   "cell_type": "markdown",
   "id": "d05e85da",
   "metadata": {},
   "source": [
    "# Data preparation"
   ]
  },
  {
   "cell_type": "markdown",
   "id": "4d3023b3",
   "metadata": {},
   "source": [
    "In this step since the data range of variables shows large variation it is necessary to normalize the data. Since we are using K-means it is distance based so it is necessary to adjust the common range to avoid building biased model."
   ]
  },
  {
   "cell_type": "code",
   "execution_count": 36,
   "id": "e195aaf7",
   "metadata": {},
   "outputs": [],
   "source": [
    "# import required libaries from scikit learn\n",
    "from sklearn.preprocessing import StandardScaler\n",
    "from sklearn.cluster import KMeans\n"
   ]
  },
  {
   "cell_type": "markdown",
   "id": "d459519b",
   "metadata": {},
   "source": [
    "In order to perform clustering here I have taken only few features R,F and M"
   ]
  },
  {
   "cell_type": "code",
   "execution_count": 37,
   "id": "608c5ba4",
   "metadata": {},
   "outputs": [
    {
     "data": {
      "text/html": [
       "<div>\n",
       "<style scoped>\n",
       "    .dataframe tbody tr th:only-of-type {\n",
       "        vertical-align: middle;\n",
       "    }\n",
       "\n",
       "    .dataframe tbody tr th {\n",
       "        vertical-align: top;\n",
       "    }\n",
       "\n",
       "    .dataframe thead th {\n",
       "        text-align: right;\n",
       "    }\n",
       "</style>\n",
       "<table border=\"1\" class=\"dataframe\">\n",
       "  <thead>\n",
       "    <tr style=\"text-align: right;\">\n",
       "      <th></th>\n",
       "      <th>R</th>\n",
       "      <th>F</th>\n",
       "      <th>M</th>\n",
       "    </tr>\n",
       "  </thead>\n",
       "  <tbody>\n",
       "    <tr>\n",
       "      <th>0</th>\n",
       "      <td>1</td>\n",
       "      <td>1</td>\n",
       "      <td>1</td>\n",
       "    </tr>\n",
       "    <tr>\n",
       "      <th>1</th>\n",
       "      <td>5</td>\n",
       "      <td>5</td>\n",
       "      <td>5</td>\n",
       "    </tr>\n",
       "    <tr>\n",
       "      <th>2</th>\n",
       "      <td>2</td>\n",
       "      <td>3</td>\n",
       "      <td>4</td>\n",
       "    </tr>\n",
       "    <tr>\n",
       "      <th>3</th>\n",
       "      <td>4</td>\n",
       "      <td>4</td>\n",
       "      <td>4</td>\n",
       "    </tr>\n",
       "    <tr>\n",
       "      <th>4</th>\n",
       "      <td>1</td>\n",
       "      <td>2</td>\n",
       "      <td>2</td>\n",
       "    </tr>\n",
       "    <tr>\n",
       "      <th>...</th>\n",
       "      <td>...</td>\n",
       "      <td>...</td>\n",
       "      <td>...</td>\n",
       "    </tr>\n",
       "    <tr>\n",
       "      <th>4367</th>\n",
       "      <td>1</td>\n",
       "      <td>1</td>\n",
       "      <td>1</td>\n",
       "    </tr>\n",
       "    <tr>\n",
       "      <th>4368</th>\n",
       "      <td>1</td>\n",
       "      <td>1</td>\n",
       "      <td>1</td>\n",
       "    </tr>\n",
       "    <tr>\n",
       "      <th>4369</th>\n",
       "      <td>5</td>\n",
       "      <td>1</td>\n",
       "      <td>1</td>\n",
       "    </tr>\n",
       "    <tr>\n",
       "      <th>4370</th>\n",
       "      <td>5</td>\n",
       "      <td>5</td>\n",
       "      <td>5</td>\n",
       "    </tr>\n",
       "    <tr>\n",
       "      <th>4371</th>\n",
       "      <td>3</td>\n",
       "      <td>4</td>\n",
       "      <td>4</td>\n",
       "    </tr>\n",
       "  </tbody>\n",
       "</table>\n",
       "<p>4372 rows × 3 columns</p>\n",
       "</div>"
      ],
      "text/plain": [
       "      R  F  M\n",
       "0     1  1  1\n",
       "1     5  5  5\n",
       "2     2  3  4\n",
       "3     4  4  4\n",
       "4     1  2  2\n",
       "...  .. .. ..\n",
       "4367  1  1  1\n",
       "4368  1  1  1\n",
       "4369  5  1  1\n",
       "4370  5  5  5\n",
       "4371  3  4  4\n",
       "\n",
       "[4372 rows x 3 columns]"
      ]
     },
     "execution_count": 37,
     "metadata": {},
     "output_type": "execute_result"
    }
   ],
   "source": [
    "filterd_data=rfm[['R','F','M']]\n",
    "filterd_data"
   ]
  },
  {
   "cell_type": "code",
   "execution_count": 38,
   "id": "9ddd6f82",
   "metadata": {
    "scrolled": true
   },
   "outputs": [
    {
     "data": {
      "text/html": [
       "<div>\n",
       "<style scoped>\n",
       "    .dataframe tbody tr th:only-of-type {\n",
       "        vertical-align: middle;\n",
       "    }\n",
       "\n",
       "    .dataframe tbody tr th {\n",
       "        vertical-align: top;\n",
       "    }\n",
       "\n",
       "    .dataframe thead th {\n",
       "        text-align: right;\n",
       "    }\n",
       "</style>\n",
       "<table border=\"1\" class=\"dataframe\">\n",
       "  <thead>\n",
       "    <tr style=\"text-align: right;\">\n",
       "      <th></th>\n",
       "      <th>n_Recency</th>\n",
       "      <th>n_Frequency</th>\n",
       "      <th>n_Monetary</th>\n",
       "    </tr>\n",
       "  </thead>\n",
       "  <tbody>\n",
       "    <tr>\n",
       "      <th>count</th>\n",
       "      <td>4.372000e+03</td>\n",
       "      <td>4.372000e+03</td>\n",
       "      <td>4372.000000</td>\n",
       "    </tr>\n",
       "    <tr>\n",
       "      <th>mean</th>\n",
       "      <td>2.794167e-17</td>\n",
       "      <td>2.849200e-17</td>\n",
       "      <td>0.000000</td>\n",
       "    </tr>\n",
       "    <tr>\n",
       "      <th>std</th>\n",
       "      <td>1.000114e+00</td>\n",
       "      <td>1.000114e+00</td>\n",
       "      <td>1.000114</td>\n",
       "    </tr>\n",
       "    <tr>\n",
       "      <th>min</th>\n",
       "      <td>-1.419309e+00</td>\n",
       "      <td>-1.390071e+00</td>\n",
       "      <td>-1.413890</td>\n",
       "    </tr>\n",
       "    <tr>\n",
       "      <th>25%</th>\n",
       "      <td>-7.152906e-01</td>\n",
       "      <td>-6.886987e-01</td>\n",
       "      <td>-0.706945</td>\n",
       "    </tr>\n",
       "    <tr>\n",
       "      <th>50%</th>\n",
       "      <td>-1.127203e-02</td>\n",
       "      <td>1.267347e-02</td>\n",
       "      <td>0.000000</td>\n",
       "    </tr>\n",
       "    <tr>\n",
       "      <th>75%</th>\n",
       "      <td>6.927466e-01</td>\n",
       "      <td>7.140456e-01</td>\n",
       "      <td>0.706945</td>\n",
       "    </tr>\n",
       "    <tr>\n",
       "      <th>max</th>\n",
       "      <td>1.396765e+00</td>\n",
       "      <td>1.415418e+00</td>\n",
       "      <td>1.413890</td>\n",
       "    </tr>\n",
       "  </tbody>\n",
       "</table>\n",
       "</div>"
      ],
      "text/plain": [
       "          n_Recency   n_Frequency   n_Monetary\n",
       "count  4.372000e+03  4.372000e+03  4372.000000\n",
       "mean   2.794167e-17  2.849200e-17     0.000000\n",
       "std    1.000114e+00  1.000114e+00     1.000114\n",
       "min   -1.419309e+00 -1.390071e+00    -1.413890\n",
       "25%   -7.152906e-01 -6.886987e-01    -0.706945\n",
       "50%   -1.127203e-02  1.267347e-02     0.000000\n",
       "75%    6.927466e-01  7.140456e-01     0.706945\n",
       "max    1.396765e+00  1.415418e+00     1.413890"
      ]
     },
     "execution_count": 38,
     "metadata": {},
     "output_type": "execute_result"
    }
   ],
   "source": [
    "# initializing the standardScaler\n",
    "scaler=StandardScaler()\n",
    "rfm_normalizedDf=pd.DataFrame(scaler.fit_transform(filterd_data))\n",
    "rfm_normalizedDf.columns=['n_Recency','n_Frequency','n_Monetary']\n",
    "rfm_normalizedDf.describe()"
   ]
  },
  {
   "cell_type": "code",
   "execution_count": 39,
   "id": "6e18ddad",
   "metadata": {
    "scrolled": true
   },
   "outputs": [
    {
     "data": {
      "image/png": "[encoded data removed]",
      "text/plain": [
       "<Figure size 640x480 with 1 Axes>"
      ]
     },
     "metadata": {},
     "output_type": "display_data"
    }
   ],
   "source": [
    "# for finding the optimum number of cluster here I am using elbow method\n",
    "wcss=[]\n",
    "for i in range(1,11):\n",
    "    kmeans=KMeans(n_clusters=i, init='k-means++', random_state=42)\n",
    "    kmeans.fit(rfm_normalizedDf)\n",
    "    wcss.append(kmeans.inertia_)\n",
    "\n",
    "plt.plot(range(1,11),wcss)\n",
    "plt.title('The elbow Method')\n",
    "plt.xlabel('Number of Clusters')\n",
    "plt.ylabel('WCSS')\n",
    "plt.show()"
   ]
  },
  {
   "cell_type": "markdown",
   "id": "38c67d9c",
   "metadata": {},
   "source": [
    "As shown in the above chart the elbow was formed at cluster 4"
   ]
  },
  {
   "cell_type": "code",
   "execution_count": 40,
   "id": "7c4b36e0",
   "metadata": {},
   "outputs": [
    {
     "data": {
      "text/plain": [
       "KMeans(n_clusters=4)"
      ]
     },
     "execution_count": 40,
     "metadata": {},
     "output_type": "execute_result"
    }
   ],
   "source": [
    "# using the cluster 4 to create cluster in the data\n",
    "kmeans=KMeans(n_clusters=4)\n",
    "kmeans.fit(rfm_normalizedDf)\n"
   ]
  },
  {
   "cell_type": "code",
   "execution_count": 41,
   "id": "faf6e6c0",
   "metadata": {},
   "outputs": [],
   "source": [
    "cluster=kmeans.labels_"
   ]
  },
  {
   "cell_type": "raw",
   "id": "eda2a695",
   "metadata": {},
   "source": [
    "print(cluster)"
   ]
  },
  {
   "cell_type": "code",
   "execution_count": 42,
   "id": "53eedc1a",
   "metadata": {},
   "outputs": [
    {
     "data": {
      "text/html": [
       "<div>\n",
       "<style scoped>\n",
       "    .dataframe tbody tr th:only-of-type {\n",
       "        vertical-align: middle;\n",
       "    }\n",
       "\n",
       "    .dataframe tbody tr th {\n",
       "        vertical-align: top;\n",
       "    }\n",
       "\n",
       "    .dataframe thead th {\n",
       "        text-align: right;\n",
       "    }\n",
       "</style>\n",
       "<table border=\"1\" class=\"dataframe\">\n",
       "  <thead>\n",
       "    <tr style=\"text-align: right;\">\n",
       "      <th></th>\n",
       "      <th>CustomerID</th>\n",
       "      <th>Recency</th>\n",
       "      <th>Frequency</th>\n",
       "      <th>Monetary</th>\n",
       "      <th>R</th>\n",
       "      <th>F</th>\n",
       "      <th>M</th>\n",
       "      <th>RFM_segment</th>\n",
       "      <th>RFM_score</th>\n",
       "      <th>Cluster</th>\n",
       "    </tr>\n",
       "  </thead>\n",
       "  <tbody>\n",
       "    <tr>\n",
       "      <th>0</th>\n",
       "      <td>12346.0</td>\n",
       "      <td>325</td>\n",
       "      <td>2</td>\n",
       "      <td>0.00</td>\n",
       "      <td>1</td>\n",
       "      <td>1</td>\n",
       "      <td>1</td>\n",
       "      <td>111</td>\n",
       "      <td>3</td>\n",
       "      <td>0</td>\n",
       "    </tr>\n",
       "    <tr>\n",
       "      <th>1</th>\n",
       "      <td>12347.0</td>\n",
       "      <td>2</td>\n",
       "      <td>182</td>\n",
       "      <td>4310.00</td>\n",
       "      <td>5</td>\n",
       "      <td>5</td>\n",
       "      <td>5</td>\n",
       "      <td>555</td>\n",
       "      <td>15</td>\n",
       "      <td>1</td>\n",
       "    </tr>\n",
       "    <tr>\n",
       "      <th>2</th>\n",
       "      <td>12348.0</td>\n",
       "      <td>75</td>\n",
       "      <td>31</td>\n",
       "      <td>1797.24</td>\n",
       "      <td>2</td>\n",
       "      <td>3</td>\n",
       "      <td>4</td>\n",
       "      <td>234</td>\n",
       "      <td>9</td>\n",
       "      <td>3</td>\n",
       "    </tr>\n",
       "    <tr>\n",
       "      <th>3</th>\n",
       "      <td>12349.0</td>\n",
       "      <td>18</td>\n",
       "      <td>73</td>\n",
       "      <td>1757.55</td>\n",
       "      <td>4</td>\n",
       "      <td>4</td>\n",
       "      <td>4</td>\n",
       "      <td>444</td>\n",
       "      <td>12</td>\n",
       "      <td>1</td>\n",
       "    </tr>\n",
       "    <tr>\n",
       "      <th>4</th>\n",
       "      <td>12350.0</td>\n",
       "      <td>310</td>\n",
       "      <td>17</td>\n",
       "      <td>334.40</td>\n",
       "      <td>1</td>\n",
       "      <td>2</td>\n",
       "      <td>2</td>\n",
       "      <td>122</td>\n",
       "      <td>5</td>\n",
       "      <td>0</td>\n",
       "    </tr>\n",
       "    <tr>\n",
       "      <th>...</th>\n",
       "      <td>...</td>\n",
       "      <td>...</td>\n",
       "      <td>...</td>\n",
       "      <td>...</td>\n",
       "      <td>...</td>\n",
       "      <td>...</td>\n",
       "      <td>...</td>\n",
       "      <td>...</td>\n",
       "      <td>...</td>\n",
       "      <td>...</td>\n",
       "    </tr>\n",
       "    <tr>\n",
       "      <th>4367</th>\n",
       "      <td>18280.0</td>\n",
       "      <td>277</td>\n",
       "      <td>10</td>\n",
       "      <td>180.60</td>\n",
       "      <td>1</td>\n",
       "      <td>1</td>\n",
       "      <td>1</td>\n",
       "      <td>111</td>\n",
       "      <td>3</td>\n",
       "      <td>0</td>\n",
       "    </tr>\n",
       "    <tr>\n",
       "      <th>4368</th>\n",
       "      <td>18281.0</td>\n",
       "      <td>180</td>\n",
       "      <td>7</td>\n",
       "      <td>80.82</td>\n",
       "      <td>1</td>\n",
       "      <td>1</td>\n",
       "      <td>1</td>\n",
       "      <td>111</td>\n",
       "      <td>3</td>\n",
       "      <td>0</td>\n",
       "    </tr>\n",
       "    <tr>\n",
       "      <th>4369</th>\n",
       "      <td>18282.0</td>\n",
       "      <td>7</td>\n",
       "      <td>13</td>\n",
       "      <td>176.60</td>\n",
       "      <td>5</td>\n",
       "      <td>1</td>\n",
       "      <td>1</td>\n",
       "      <td>511</td>\n",
       "      <td>7</td>\n",
       "      <td>2</td>\n",
       "    </tr>\n",
       "    <tr>\n",
       "      <th>4370</th>\n",
       "      <td>18283.0</td>\n",
       "      <td>3</td>\n",
       "      <td>721</td>\n",
       "      <td>2094.88</td>\n",
       "      <td>5</td>\n",
       "      <td>5</td>\n",
       "      <td>5</td>\n",
       "      <td>555</td>\n",
       "      <td>15</td>\n",
       "      <td>1</td>\n",
       "    </tr>\n",
       "    <tr>\n",
       "      <th>4371</th>\n",
       "      <td>18287.0</td>\n",
       "      <td>42</td>\n",
       "      <td>70</td>\n",
       "      <td>1837.28</td>\n",
       "      <td>3</td>\n",
       "      <td>4</td>\n",
       "      <td>4</td>\n",
       "      <td>344</td>\n",
       "      <td>11</td>\n",
       "      <td>3</td>\n",
       "    </tr>\n",
       "  </tbody>\n",
       "</table>\n",
       "<p>4372 rows × 10 columns</p>\n",
       "</div>"
      ],
      "text/plain": [
       "      CustomerID  Recency  Frequency  Monetary  R  F  M RFM_segment  \\\n",
       "0        12346.0      325          2      0.00  1  1  1         111   \n",
       "1        12347.0        2        182   4310.00  5  5  5         555   \n",
       "2        12348.0       75         31   1797.24  2  3  4         234   \n",
       "3        12349.0       18         73   1757.55  4  4  4         444   \n",
       "4        12350.0      310         17    334.40  1  2  2         122   \n",
       "...          ...      ...        ...       ... .. .. ..         ...   \n",
       "4367     18280.0      277         10    180.60  1  1  1         111   \n",
       "4368     18281.0      180          7     80.82  1  1  1         111   \n",
       "4369     18282.0        7         13    176.60  5  1  1         511   \n",
       "4370     18283.0        3        721   2094.88  5  5  5         555   \n",
       "4371     18287.0       42         70   1837.28  3  4  4         344   \n",
       "\n",
       "      RFM_score  Cluster  \n",
       "0             3        0  \n",
       "1            15        1  \n",
       "2             9        3  \n",
       "3            12        1  \n",
       "4             5        0  \n",
       "...         ...      ...  \n",
       "4367          3        0  \n",
       "4368          3        0  \n",
       "4369          7        2  \n",
       "4370         15        1  \n",
       "4371         11        3  \n",
       "\n",
       "[4372 rows x 10 columns]"
      ]
     },
     "execution_count": 42,
     "metadata": {},
     "output_type": "execute_result"
    }
   ],
   "source": [
    "# creating and assigning the cluster number to their correspondin values\n",
    "rfm['Cluster']=cluster\n",
    "rfm"
   ]
  },
  {
   "cell_type": "code",
   "execution_count": 43,
   "id": "9f4cb1af",
   "metadata": {
    "scrolled": true
   },
   "outputs": [
    {
     "data": {
      "image/png": "[encoded data removed]",
      "text/plain": [
       "<Figure size 640x480 with 1 Axes>"
      ]
     },
     "metadata": {},
     "output_type": "display_data"
    }
   ],
   "source": [
    "centers=kmeans.cluster_centers_\n",
    "fig=plt.figure()\n",
    "ax=fig.add_subplot(111, projection='3d')\n",
    "ax.scatter(rfm_normalizedDf['n_Recency'],rfm_normalizedDf['n_Frequency'],rfm_normalizedDf['n_Monetary'], cmap='brg', c=kmeans.predict(rfm_normalizedDf))\n",
    "ax.scatter(centers[:,0], centers[:,1], c='black')\n",
    "plt.show()\n"
   ]
  },
  {
   "cell_type": "code",
   "execution_count": 44,
   "id": "1565c201",
   "metadata": {},
   "outputs": [
    {
     "name": "stdout",
     "output_type": "stream",
     "text": [
      "            Recency   Frequency     Monetary\n",
      "Cluster                                     \n",
      "0        202.896552   15.669607   266.207957\n",
      "1         16.227790  221.646925  4835.016105\n",
      "2         26.832207   27.484234   459.558423\n",
      "3        111.067391   71.466304  1295.978698\n"
     ]
    }
   ],
   "source": [
    "# now we have got the cluster let's analyse the clusters\n",
    "# grouping the data based on the clusters\n",
    "grouped_cluster=rfm.groupby('Cluster').agg({'Recency':'mean','Frequency':'mean','Monetary':'mean'})\n",
    "\n",
    "print(grouped_cluster)"
   ]
  },
  {
   "cell_type": "code",
   "execution_count": 45,
   "id": "0b98a6f9",
   "metadata": {},
   "outputs": [
    {
     "data": {
      "image/png": "[encoded data removed]",
      "text/plain": [
       "<Figure size 1200x800 with 1 Axes>"
      ]
     },
     "metadata": {},
     "output_type": "display_data"
    },
    {
     "name": "stdout",
     "output_type": "stream",
     "text": [
      "0    1247\n",
      "1    1317\n",
      "2     888\n",
      "3     920\n",
      "Name: Cluster, dtype: int64\n"
     ]
    }
   ],
   "source": [
    "# Plot histograms for each RFM feature within each cluster\n",
    "rfm_melted = rfm.melt(id_vars=['Cluster'], value_vars=['Recency', 'Frequency', 'Monetary'])\n",
    "\n",
    "plt.figure(figsize=(12, 8))\n",
    "sns.set(style=\"whitegrid\")\n",
    "sns.barplot(x='variable', y='value', hue='Cluster', data=rfm_melted, ci=None)\n",
    "plt.title('RFM Analysis by Cluster')\n",
    "plt.xlabel('RFM Feature')\n",
    "plt.ylabel('Mean Value')\n",
    "plt.legend(title='Cluster')\n",
    "plt.show()\n",
    "\n",
    "# Compare the size of each cluster\n",
    "cluster_sizes = rfm['Cluster'].value_counts().sort_index()\n",
    "print(cluster_sizes)"
   ]
  },
  {
   "cell_type": "markdown",
   "id": "206ae1f3",
   "metadata": {},
   "source": [
    "As shown in the above chart and stats we can say that:\n",
    "    \n",
    "* cluster 0:\n",
    "    * Recency: The average time since the last purchase in this cluster is approximately 29 days.\n",
    "    * Frequency: The average frequency of purchases is around 26 times\n",
    "    * Monetary: The average monetary value of purchase is approximately £428.37\n",
    "    \n",
    "    \n",
    "* cluster 1:\n",
    "    * Recency: The average time since the last purchase in this cluster is approximately 16 days which indicates that the customer in this cluster tends to make more frequenct purcases.\n",
    "    * Frequency: The average frequency of purchases is around 222 times which indicates that this cluster customer makes large number of purchases.\n",
    "    * Monetary: The average monetary value of purchase is approximately £ 4835.02 which means that the customer in this cluster are high spender and contribute significantly to revenue. \n",
    "    \n",
    "    \n",
    "* cluster 2:\n",
    "    * Recency: The average time since the last purchase in this cluster is approximately 111 days which means that there is a longer gap in between purchases.\n",
    "    * Frequency: The average frequency of purchases is around 71 times which means the customer in this cluster makes moderate number of purchases.\n",
    "    * Monetary: The average monetary value of purchase is approximately £1296 which suggest that customer in  this cluster spends a moderate amount on purchases.\n",
    "    \n",
    "    \n",
    "    \n",
    "* cluster 3:\n",
    "    * Recency: The average time since the last purchase in this cluster is approximately 215 days which means that there is a longer gap between the customer purchases.\n",
    "    * Frequency: The average frequency of purchases is around 16 times which is relatively low as compare to other clusters.\n",
    "    * Monetary: The average monetary value of purchase is approximately £277 which indicates that customer in this cluster spend less on purchases."
   ]
  },
  {
   "cell_type": "code",
   "execution_count": null,
   "id": "751d44fb",
   "metadata": {},
   "outputs": [],
   "source": []
  },
  {
   "cell_type": "markdown",
   "id": "c4c26cc0",
   "metadata": {},
   "source": [
    "As shown in the above chart cluster 1 hass more number of customers as compare to other"
   ]
  },
  {
   "cell_type": "markdown",
   "id": "7a4742a6",
   "metadata": {},
   "source": [
    "Giving labels to each customer based on the behaviour"
   ]
  },
  {
   "cell_type": "markdown",
   "id": "3df4ec42",
   "metadata": {},
   "source": [
    "For cluster 0 → New customer\n",
    "\n",
    "Cluster 1  →  High-value customer\n",
    "\n",
    "Cluster 2  →  Churned Customer\n",
    "\n",
    "cluster 3  →  Low-value Customer"
   ]
  },
  {
   "cell_type": "code",
   "execution_count": 46,
   "id": "757465e0",
   "metadata": {},
   "outputs": [],
   "source": [
    "# create function to categorize customer based on the clusters\n",
    "def categorized_customer(clusters):\n",
    "    if clusters==0:\n",
    "        return 'New customer'\n",
    "    elif clusters==1:\n",
    "        return 'High-Value Customer'\n",
    "    elif clusters==2:\n",
    "        return 'Churned Customer'\n",
    "    else:\n",
    "        return 'Low-value Customer'\n",
    "  \n",
    "rfm['CustomerCategory']=rfm['Cluster'].apply(categorized_customer)"
   ]
  },
  {
   "cell_type": "code",
   "execution_count": 47,
   "id": "c893078c",
   "metadata": {},
   "outputs": [
    {
     "data": {
      "text/html": [
       "<div>\n",
       "<style scoped>\n",
       "    .dataframe tbody tr th:only-of-type {\n",
       "        vertical-align: middle;\n",
       "    }\n",
       "\n",
       "    .dataframe tbody tr th {\n",
       "        vertical-align: top;\n",
       "    }\n",
       "\n",
       "    .dataframe thead th {\n",
       "        text-align: right;\n",
       "    }\n",
       "</style>\n",
       "<table border=\"1\" class=\"dataframe\">\n",
       "  <thead>\n",
       "    <tr style=\"text-align: right;\">\n",
       "      <th></th>\n",
       "      <th>CustomerID</th>\n",
       "      <th>Recency</th>\n",
       "      <th>Frequency</th>\n",
       "      <th>Monetary</th>\n",
       "      <th>R</th>\n",
       "      <th>F</th>\n",
       "      <th>M</th>\n",
       "      <th>RFM_segment</th>\n",
       "      <th>RFM_score</th>\n",
       "      <th>Cluster</th>\n",
       "      <th>CustomerCategory</th>\n",
       "    </tr>\n",
       "  </thead>\n",
       "  <tbody>\n",
       "    <tr>\n",
       "      <th>0</th>\n",
       "      <td>12346.0</td>\n",
       "      <td>325</td>\n",
       "      <td>2</td>\n",
       "      <td>0.00</td>\n",
       "      <td>1</td>\n",
       "      <td>1</td>\n",
       "      <td>1</td>\n",
       "      <td>111</td>\n",
       "      <td>3</td>\n",
       "      <td>0</td>\n",
       "      <td>New customer</td>\n",
       "    </tr>\n",
       "    <tr>\n",
       "      <th>1</th>\n",
       "      <td>12347.0</td>\n",
       "      <td>2</td>\n",
       "      <td>182</td>\n",
       "      <td>4310.00</td>\n",
       "      <td>5</td>\n",
       "      <td>5</td>\n",
       "      <td>5</td>\n",
       "      <td>555</td>\n",
       "      <td>15</td>\n",
       "      <td>1</td>\n",
       "      <td>High-Value Customer</td>\n",
       "    </tr>\n",
       "    <tr>\n",
       "      <th>2</th>\n",
       "      <td>12348.0</td>\n",
       "      <td>75</td>\n",
       "      <td>31</td>\n",
       "      <td>1797.24</td>\n",
       "      <td>2</td>\n",
       "      <td>3</td>\n",
       "      <td>4</td>\n",
       "      <td>234</td>\n",
       "      <td>9</td>\n",
       "      <td>3</td>\n",
       "      <td>Low-value Customer</td>\n",
       "    </tr>\n",
       "    <tr>\n",
       "      <th>3</th>\n",
       "      <td>12349.0</td>\n",
       "      <td>18</td>\n",
       "      <td>73</td>\n",
       "      <td>1757.55</td>\n",
       "      <td>4</td>\n",
       "      <td>4</td>\n",
       "      <td>4</td>\n",
       "      <td>444</td>\n",
       "      <td>12</td>\n",
       "      <td>1</td>\n",
       "      <td>High-Value Customer</td>\n",
       "    </tr>\n",
       "    <tr>\n",
       "      <th>4</th>\n",
       "      <td>12350.0</td>\n",
       "      <td>310</td>\n",
       "      <td>17</td>\n",
       "      <td>334.40</td>\n",
       "      <td>1</td>\n",
       "      <td>2</td>\n",
       "      <td>2</td>\n",
       "      <td>122</td>\n",
       "      <td>5</td>\n",
       "      <td>0</td>\n",
       "      <td>New customer</td>\n",
       "    </tr>\n",
       "    <tr>\n",
       "      <th>...</th>\n",
       "      <td>...</td>\n",
       "      <td>...</td>\n",
       "      <td>...</td>\n",
       "      <td>...</td>\n",
       "      <td>...</td>\n",
       "      <td>...</td>\n",
       "      <td>...</td>\n",
       "      <td>...</td>\n",
       "      <td>...</td>\n",
       "      <td>...</td>\n",
       "      <td>...</td>\n",
       "    </tr>\n",
       "    <tr>\n",
       "      <th>4367</th>\n",
       "      <td>18280.0</td>\n",
       "      <td>277</td>\n",
       "      <td>10</td>\n",
       "      <td>180.60</td>\n",
       "      <td>1</td>\n",
       "      <td>1</td>\n",
       "      <td>1</td>\n",
       "      <td>111</td>\n",
       "      <td>3</td>\n",
       "      <td>0</td>\n",
       "      <td>New customer</td>\n",
       "    </tr>\n",
       "    <tr>\n",
       "      <th>4368</th>\n",
       "      <td>18281.0</td>\n",
       "      <td>180</td>\n",
       "      <td>7</td>\n",
       "      <td>80.82</td>\n",
       "      <td>1</td>\n",
       "      <td>1</td>\n",
       "      <td>1</td>\n",
       "      <td>111</td>\n",
       "      <td>3</td>\n",
       "      <td>0</td>\n",
       "      <td>New customer</td>\n",
       "    </tr>\n",
       "    <tr>\n",
       "      <th>4369</th>\n",
       "      <td>18282.0</td>\n",
       "      <td>7</td>\n",
       "      <td>13</td>\n",
       "      <td>176.60</td>\n",
       "      <td>5</td>\n",
       "      <td>1</td>\n",
       "      <td>1</td>\n",
       "      <td>511</td>\n",
       "      <td>7</td>\n",
       "      <td>2</td>\n",
       "      <td>Churned Customer</td>\n",
       "    </tr>\n",
       "    <tr>\n",
       "      <th>4370</th>\n",
       "      <td>18283.0</td>\n",
       "      <td>3</td>\n",
       "      <td>721</td>\n",
       "      <td>2094.88</td>\n",
       "      <td>5</td>\n",
       "      <td>5</td>\n",
       "      <td>5</td>\n",
       "      <td>555</td>\n",
       "      <td>15</td>\n",
       "      <td>1</td>\n",
       "      <td>High-Value Customer</td>\n",
       "    </tr>\n",
       "    <tr>\n",
       "      <th>4371</th>\n",
       "      <td>18287.0</td>\n",
       "      <td>42</td>\n",
       "      <td>70</td>\n",
       "      <td>1837.28</td>\n",
       "      <td>3</td>\n",
       "      <td>4</td>\n",
       "      <td>4</td>\n",
       "      <td>344</td>\n",
       "      <td>11</td>\n",
       "      <td>3</td>\n",
       "      <td>Low-value Customer</td>\n",
       "    </tr>\n",
       "  </tbody>\n",
       "</table>\n",
       "<p>4372 rows × 11 columns</p>\n",
       "</div>"
      ],
      "text/plain": [
       "      CustomerID  Recency  Frequency  Monetary  R  F  M RFM_segment  \\\n",
       "0        12346.0      325          2      0.00  1  1  1         111   \n",
       "1        12347.0        2        182   4310.00  5  5  5         555   \n",
       "2        12348.0       75         31   1797.24  2  3  4         234   \n",
       "3        12349.0       18         73   1757.55  4  4  4         444   \n",
       "4        12350.0      310         17    334.40  1  2  2         122   \n",
       "...          ...      ...        ...       ... .. .. ..         ...   \n",
       "4367     18280.0      277         10    180.60  1  1  1         111   \n",
       "4368     18281.0      180          7     80.82  1  1  1         111   \n",
       "4369     18282.0        7         13    176.60  5  1  1         511   \n",
       "4370     18283.0        3        721   2094.88  5  5  5         555   \n",
       "4371     18287.0       42         70   1837.28  3  4  4         344   \n",
       "\n",
       "      RFM_score  Cluster     CustomerCategory  \n",
       "0             3        0         New customer  \n",
       "1            15        1  High-Value Customer  \n",
       "2             9        3   Low-value Customer  \n",
       "3            12        1  High-Value Customer  \n",
       "4             5        0         New customer  \n",
       "...         ...      ...                  ...  \n",
       "4367          3        0         New customer  \n",
       "4368          3        0         New customer  \n",
       "4369          7        2     Churned Customer  \n",
       "4370         15        1  High-Value Customer  \n",
       "4371         11        3   Low-value Customer  \n",
       "\n",
       "[4372 rows x 11 columns]"
      ]
     },
     "execution_count": 47,
     "metadata": {},
     "output_type": "execute_result"
    }
   ],
   "source": [
    "rfm"
   ]
  },
  {
   "cell_type": "code",
   "execution_count": 48,
   "id": "9c9ecb43",
   "metadata": {},
   "outputs": [
    {
     "data": {
      "image/png": "[encoded data removed]",
      "text/plain": [
       "<Figure size 1000x600 with 1 Axes>"
      ]
     },
     "metadata": {},
     "output_type": "display_data"
    }
   ],
   "source": [
    "# Plot the distribution of customers in each cluster\n",
    "plt.figure(figsize=(10, 6))\n",
    "sns.countplot(x='CustomerCategory', data=rfm, palette='viridis')\n",
    "plt.title('Customer Distribution by Cluster')\n",
    "plt.xlabel('Customer Type')\n",
    "plt.ylabel('Number of Customers')\n",
    "plt.show()"
   ]
  },
  {
   "cell_type": "code",
   "execution_count": 49,
   "id": "a82f7b2d",
   "metadata": {},
   "outputs": [],
   "source": [
    "cluster_3=rfm[rfm['Cluster']==3]"
   ]
  },
  {
   "cell_type": "code",
   "execution_count": null,
   "id": "785698e2",
   "metadata": {},
   "outputs": [],
   "source": []
  },
  {
   "cell_type": "code",
   "execution_count": 50,
   "id": "60114476",
   "metadata": {},
   "outputs": [
    {
     "data": {
      "text/plain": [
       "Index(['CustomerID', 'Recency', 'Frequency', 'Monetary', 'R', 'F', 'M',\n",
       "       'RFM_segment', 'RFM_score', 'Cluster', 'CustomerCategory'],\n",
       "      dtype='object')"
      ]
     },
     "execution_count": 50,
     "metadata": {},
     "output_type": "execute_result"
    }
   ],
   "source": [
    "rfm.columns"
   ]
  },
  {
   "cell_type": "code",
   "execution_count": 51,
   "id": "89ee8426",
   "metadata": {},
   "outputs": [
    {
     "data": {
      "text/plain": [
       "Index(['InvoiceNo', 'StockCode', 'Description', 'Quantity', 'InvoiceDate',\n",
       "       'UnitPrice', 'CustomerID', 'Country', 'Month', 'Date', 'Total'],\n",
       "      dtype='object')"
      ]
     },
     "execution_count": 51,
     "metadata": {},
     "output_type": "execute_result"
    }
   ],
   "source": [
    "data_copy.columns"
   ]
  },
  {
   "cell_type": "code",
   "execution_count": 52,
   "id": "46ce5c7e",
   "metadata": {},
   "outputs": [
    {
     "data": {
      "text/html": [
       "<div>\n",
       "<style scoped>\n",
       "    .dataframe tbody tr th:only-of-type {\n",
       "        vertical-align: middle;\n",
       "    }\n",
       "\n",
       "    .dataframe tbody tr th {\n",
       "        vertical-align: top;\n",
       "    }\n",
       "\n",
       "    .dataframe thead th {\n",
       "        text-align: right;\n",
       "    }\n",
       "</style>\n",
       "<table border=\"1\" class=\"dataframe\">\n",
       "  <thead>\n",
       "    <tr style=\"text-align: right;\">\n",
       "      <th></th>\n",
       "      <th>InvoiceNo</th>\n",
       "      <th>StockCode</th>\n",
       "      <th>Description</th>\n",
       "      <th>Quantity</th>\n",
       "      <th>InvoiceDate</th>\n",
       "      <th>UnitPrice</th>\n",
       "      <th>CustomerID</th>\n",
       "      <th>Country</th>\n",
       "      <th>Month</th>\n",
       "      <th>Date</th>\n",
       "      <th>...</th>\n",
       "      <th>Recency</th>\n",
       "      <th>Frequency</th>\n",
       "      <th>Monetary</th>\n",
       "      <th>R</th>\n",
       "      <th>F</th>\n",
       "      <th>M</th>\n",
       "      <th>RFM_segment</th>\n",
       "      <th>RFM_score</th>\n",
       "      <th>Cluster</th>\n",
       "      <th>CustomerCategory</th>\n",
       "    </tr>\n",
       "  </thead>\n",
       "  <tbody>\n",
       "    <tr>\n",
       "      <th>0</th>\n",
       "      <td>536365</td>\n",
       "      <td>85123A</td>\n",
       "      <td>WHITE HANGING HEART T-LIGHT HOLDER</td>\n",
       "      <td>6</td>\n",
       "      <td>2010-12-01 08:26:00</td>\n",
       "      <td>2.55</td>\n",
       "      <td>17850.0</td>\n",
       "      <td>United Kingdom</td>\n",
       "      <td>12</td>\n",
       "      <td>2010-12-01</td>\n",
       "      <td>...</td>\n",
       "      <td>302</td>\n",
       "      <td>309</td>\n",
       "      <td>5288.63</td>\n",
       "      <td>1</td>\n",
       "      <td>5</td>\n",
       "      <td>5</td>\n",
       "      <td>155</td>\n",
       "      <td>11</td>\n",
       "      <td>3</td>\n",
       "      <td>Low-value Customer</td>\n",
       "    </tr>\n",
       "    <tr>\n",
       "      <th>1</th>\n",
       "      <td>536365</td>\n",
       "      <td>71053</td>\n",
       "      <td>WHITE METAL LANTERN</td>\n",
       "      <td>6</td>\n",
       "      <td>2010-12-01 08:26:00</td>\n",
       "      <td>3.39</td>\n",
       "      <td>17850.0</td>\n",
       "      <td>United Kingdom</td>\n",
       "      <td>12</td>\n",
       "      <td>2010-12-01</td>\n",
       "      <td>...</td>\n",
       "      <td>302</td>\n",
       "      <td>309</td>\n",
       "      <td>5288.63</td>\n",
       "      <td>1</td>\n",
       "      <td>5</td>\n",
       "      <td>5</td>\n",
       "      <td>155</td>\n",
       "      <td>11</td>\n",
       "      <td>3</td>\n",
       "      <td>Low-value Customer</td>\n",
       "    </tr>\n",
       "    <tr>\n",
       "      <th>2</th>\n",
       "      <td>536365</td>\n",
       "      <td>84406B</td>\n",
       "      <td>CREAM CUPID HEARTS COAT HANGER</td>\n",
       "      <td>8</td>\n",
       "      <td>2010-12-01 08:26:00</td>\n",
       "      <td>2.75</td>\n",
       "      <td>17850.0</td>\n",
       "      <td>United Kingdom</td>\n",
       "      <td>12</td>\n",
       "      <td>2010-12-01</td>\n",
       "      <td>...</td>\n",
       "      <td>302</td>\n",
       "      <td>309</td>\n",
       "      <td>5288.63</td>\n",
       "      <td>1</td>\n",
       "      <td>5</td>\n",
       "      <td>5</td>\n",
       "      <td>155</td>\n",
       "      <td>11</td>\n",
       "      <td>3</td>\n",
       "      <td>Low-value Customer</td>\n",
       "    </tr>\n",
       "    <tr>\n",
       "      <th>3</th>\n",
       "      <td>536365</td>\n",
       "      <td>84029G</td>\n",
       "      <td>KNITTED UNION FLAG HOT WATER BOTTLE</td>\n",
       "      <td>6</td>\n",
       "      <td>2010-12-01 08:26:00</td>\n",
       "      <td>3.39</td>\n",
       "      <td>17850.0</td>\n",
       "      <td>United Kingdom</td>\n",
       "      <td>12</td>\n",
       "      <td>2010-12-01</td>\n",
       "      <td>...</td>\n",
       "      <td>302</td>\n",
       "      <td>309</td>\n",
       "      <td>5288.63</td>\n",
       "      <td>1</td>\n",
       "      <td>5</td>\n",
       "      <td>5</td>\n",
       "      <td>155</td>\n",
       "      <td>11</td>\n",
       "      <td>3</td>\n",
       "      <td>Low-value Customer</td>\n",
       "    </tr>\n",
       "    <tr>\n",
       "      <th>4</th>\n",
       "      <td>536365</td>\n",
       "      <td>84029E</td>\n",
       "      <td>RED WOOLLY HOTTIE WHITE HEART.</td>\n",
       "      <td>6</td>\n",
       "      <td>2010-12-01 08:26:00</td>\n",
       "      <td>3.39</td>\n",
       "      <td>17850.0</td>\n",
       "      <td>United Kingdom</td>\n",
       "      <td>12</td>\n",
       "      <td>2010-12-01</td>\n",
       "      <td>...</td>\n",
       "      <td>302</td>\n",
       "      <td>309</td>\n",
       "      <td>5288.63</td>\n",
       "      <td>1</td>\n",
       "      <td>5</td>\n",
       "      <td>5</td>\n",
       "      <td>155</td>\n",
       "      <td>11</td>\n",
       "      <td>3</td>\n",
       "      <td>Low-value Customer</td>\n",
       "    </tr>\n",
       "    <tr>\n",
       "      <th>...</th>\n",
       "      <td>...</td>\n",
       "      <td>...</td>\n",
       "      <td>...</td>\n",
       "      <td>...</td>\n",
       "      <td>...</td>\n",
       "      <td>...</td>\n",
       "      <td>...</td>\n",
       "      <td>...</td>\n",
       "      <td>...</td>\n",
       "      <td>...</td>\n",
       "      <td>...</td>\n",
       "      <td>...</td>\n",
       "      <td>...</td>\n",
       "      <td>...</td>\n",
       "      <td>...</td>\n",
       "      <td>...</td>\n",
       "      <td>...</td>\n",
       "      <td>...</td>\n",
       "      <td>...</td>\n",
       "      <td>...</td>\n",
       "      <td>...</td>\n",
       "    </tr>\n",
       "    <tr>\n",
       "      <th>406824</th>\n",
       "      <td>581578</td>\n",
       "      <td>22993</td>\n",
       "      <td>SET OF 4 PANTRY JELLY MOULDS</td>\n",
       "      <td>12</td>\n",
       "      <td>2011-12-09 12:16:00</td>\n",
       "      <td>1.25</td>\n",
       "      <td>12713.0</td>\n",
       "      <td>Germany</td>\n",
       "      <td>12</td>\n",
       "      <td>2011-12-09</td>\n",
       "      <td>...</td>\n",
       "      <td>0</td>\n",
       "      <td>38</td>\n",
       "      <td>848.55</td>\n",
       "      <td>5</td>\n",
       "      <td>3</td>\n",
       "      <td>3</td>\n",
       "      <td>533</td>\n",
       "      <td>11</td>\n",
       "      <td>2</td>\n",
       "      <td>Churned Customer</td>\n",
       "    </tr>\n",
       "    <tr>\n",
       "      <th>406825</th>\n",
       "      <td>581578</td>\n",
       "      <td>22907</td>\n",
       "      <td>PACK OF 20 NAPKINS PANTRY DESIGN</td>\n",
       "      <td>12</td>\n",
       "      <td>2011-12-09 12:16:00</td>\n",
       "      <td>0.85</td>\n",
       "      <td>12713.0</td>\n",
       "      <td>Germany</td>\n",
       "      <td>12</td>\n",
       "      <td>2011-12-09</td>\n",
       "      <td>...</td>\n",
       "      <td>0</td>\n",
       "      <td>38</td>\n",
       "      <td>848.55</td>\n",
       "      <td>5</td>\n",
       "      <td>3</td>\n",
       "      <td>3</td>\n",
       "      <td>533</td>\n",
       "      <td>11</td>\n",
       "      <td>2</td>\n",
       "      <td>Churned Customer</td>\n",
       "    </tr>\n",
       "    <tr>\n",
       "      <th>406826</th>\n",
       "      <td>581578</td>\n",
       "      <td>22908</td>\n",
       "      <td>PACK OF 20 NAPKINS RED APPLES</td>\n",
       "      <td>12</td>\n",
       "      <td>2011-12-09 12:16:00</td>\n",
       "      <td>0.85</td>\n",
       "      <td>12713.0</td>\n",
       "      <td>Germany</td>\n",
       "      <td>12</td>\n",
       "      <td>2011-12-09</td>\n",
       "      <td>...</td>\n",
       "      <td>0</td>\n",
       "      <td>38</td>\n",
       "      <td>848.55</td>\n",
       "      <td>5</td>\n",
       "      <td>3</td>\n",
       "      <td>3</td>\n",
       "      <td>533</td>\n",
       "      <td>11</td>\n",
       "      <td>2</td>\n",
       "      <td>Churned Customer</td>\n",
       "    </tr>\n",
       "    <tr>\n",
       "      <th>406827</th>\n",
       "      <td>581578</td>\n",
       "      <td>23215</td>\n",
       "      <td>JINGLE BELL HEART ANTIQUE SILVER</td>\n",
       "      <td>12</td>\n",
       "      <td>2011-12-09 12:16:00</td>\n",
       "      <td>2.08</td>\n",
       "      <td>12713.0</td>\n",
       "      <td>Germany</td>\n",
       "      <td>12</td>\n",
       "      <td>2011-12-09</td>\n",
       "      <td>...</td>\n",
       "      <td>0</td>\n",
       "      <td>38</td>\n",
       "      <td>848.55</td>\n",
       "      <td>5</td>\n",
       "      <td>3</td>\n",
       "      <td>3</td>\n",
       "      <td>533</td>\n",
       "      <td>11</td>\n",
       "      <td>2</td>\n",
       "      <td>Churned Customer</td>\n",
       "    </tr>\n",
       "    <tr>\n",
       "      <th>406828</th>\n",
       "      <td>581578</td>\n",
       "      <td>22736</td>\n",
       "      <td>RIBBON REEL MAKING SNOWMEN</td>\n",
       "      <td>10</td>\n",
       "      <td>2011-12-09 12:16:00</td>\n",
       "      <td>1.65</td>\n",
       "      <td>12713.0</td>\n",
       "      <td>Germany</td>\n",
       "      <td>12</td>\n",
       "      <td>2011-12-09</td>\n",
       "      <td>...</td>\n",
       "      <td>0</td>\n",
       "      <td>38</td>\n",
       "      <td>848.55</td>\n",
       "      <td>5</td>\n",
       "      <td>3</td>\n",
       "      <td>3</td>\n",
       "      <td>533</td>\n",
       "      <td>11</td>\n",
       "      <td>2</td>\n",
       "      <td>Churned Customer</td>\n",
       "    </tr>\n",
       "  </tbody>\n",
       "</table>\n",
       "<p>406829 rows × 21 columns</p>\n",
       "</div>"
      ],
      "text/plain": [
       "       InvoiceNo StockCode                          Description  Quantity  \\\n",
       "0         536365    85123A   WHITE HANGING HEART T-LIGHT HOLDER         6   \n",
       "1         536365     71053                  WHITE METAL LANTERN         6   \n",
       "2         536365    84406B       CREAM CUPID HEARTS COAT HANGER         8   \n",
       "3         536365    84029G  KNITTED UNION FLAG HOT WATER BOTTLE         6   \n",
       "4         536365    84029E       RED WOOLLY HOTTIE WHITE HEART.         6   \n",
       "...          ...       ...                                  ...       ...   \n",
       "406824    581578     22993         SET OF 4 PANTRY JELLY MOULDS        12   \n",
       "406825    581578     22907     PACK OF 20 NAPKINS PANTRY DESIGN        12   \n",
       "406826    581578     22908        PACK OF 20 NAPKINS RED APPLES        12   \n",
       "406827    581578     23215     JINGLE BELL HEART ANTIQUE SILVER        12   \n",
       "406828    581578     22736          RIBBON REEL MAKING SNOWMEN         10   \n",
       "\n",
       "               InvoiceDate  UnitPrice  CustomerID         Country  Month  \\\n",
       "0      2010-12-01 08:26:00       2.55     17850.0  United Kingdom     12   \n",
       "1      2010-12-01 08:26:00       3.39     17850.0  United Kingdom     12   \n",
       "2      2010-12-01 08:26:00       2.75     17850.0  United Kingdom     12   \n",
       "3      2010-12-01 08:26:00       3.39     17850.0  United Kingdom     12   \n",
       "4      2010-12-01 08:26:00       3.39     17850.0  United Kingdom     12   \n",
       "...                    ...        ...         ...             ...    ...   \n",
       "406824 2011-12-09 12:16:00       1.25     12713.0         Germany     12   \n",
       "406825 2011-12-09 12:16:00       0.85     12713.0         Germany     12   \n",
       "406826 2011-12-09 12:16:00       0.85     12713.0         Germany     12   \n",
       "406827 2011-12-09 12:16:00       2.08     12713.0         Germany     12   \n",
       "406828 2011-12-09 12:16:00       1.65     12713.0         Germany     12   \n",
       "\n",
       "             Date  ...  Recency  Frequency  Monetary  R  F  M RFM_segment  \\\n",
       "0      2010-12-01  ...      302        309   5288.63  1  5  5         155   \n",
       "1      2010-12-01  ...      302        309   5288.63  1  5  5         155   \n",
       "2      2010-12-01  ...      302        309   5288.63  1  5  5         155   \n",
       "3      2010-12-01  ...      302        309   5288.63  1  5  5         155   \n",
       "4      2010-12-01  ...      302        309   5288.63  1  5  5         155   \n",
       "...           ...  ...      ...        ...       ... .. .. ..         ...   \n",
       "406824 2011-12-09  ...        0         38    848.55  5  3  3         533   \n",
       "406825 2011-12-09  ...        0         38    848.55  5  3  3         533   \n",
       "406826 2011-12-09  ...        0         38    848.55  5  3  3         533   \n",
       "406827 2011-12-09  ...        0         38    848.55  5  3  3         533   \n",
       "406828 2011-12-09  ...        0         38    848.55  5  3  3         533   \n",
       "\n",
       "       RFM_score  Cluster    CustomerCategory  \n",
       "0             11        3  Low-value Customer  \n",
       "1             11        3  Low-value Customer  \n",
       "2             11        3  Low-value Customer  \n",
       "3             11        3  Low-value Customer  \n",
       "4             11        3  Low-value Customer  \n",
       "...          ...      ...                 ...  \n",
       "406824        11        2    Churned Customer  \n",
       "406825        11        2    Churned Customer  \n",
       "406826        11        2    Churned Customer  \n",
       "406827        11        2    Churned Customer  \n",
       "406828        11        2    Churned Customer  \n",
       "\n",
       "[406829 rows x 21 columns]"
      ]
     },
     "execution_count": 52,
     "metadata": {},
     "output_type": "execute_result"
    }
   ],
   "source": [
    "final_sales_data=pd.merge(data_copy, rfm, on ='CustomerID', suffixes=('_data_copy','_rfm'), how='inner')\n",
    "final_sales_data"
   ]
  },
  {
   "cell_type": "code",
   "execution_count": 53,
   "id": "8dc2e9f1",
   "metadata": {},
   "outputs": [
    {
     "data": {
      "text/plain": [
       "Index(['InvoiceNo', 'StockCode', 'Description', 'Quantity', 'InvoiceDate',\n",
       "       'UnitPrice', 'CustomerID', 'Country', 'Month', 'Date', 'Total',\n",
       "       'Recency', 'Frequency', 'Monetary', 'R', 'F', 'M', 'RFM_segment',\n",
       "       'RFM_score', 'Cluster', 'CustomerCategory'],\n",
       "      dtype='object')"
      ]
     },
     "execution_count": 53,
     "metadata": {},
     "output_type": "execute_result"
    }
   ],
   "source": [
    "final_sales_data.columns"
   ]
  },
  {
   "cell_type": "code",
   "execution_count": 54,
   "id": "7528cfd3",
   "metadata": {},
   "outputs": [
    {
     "data": {
      "text/plain": [
       "(406829, 21)"
      ]
     },
     "execution_count": 54,
     "metadata": {},
     "output_type": "execute_result"
    }
   ],
   "source": [
    "final_sales_data.shape\n"
   ]
  },
  {
   "cell_type": "code",
   "execution_count": 55,
   "id": "93676ea8",
   "metadata": {},
   "outputs": [
    {
     "data": {
      "text/plain": [
       "InvoiceNo           0\n",
       "StockCode           0\n",
       "Description         0\n",
       "Quantity            0\n",
       "InvoiceDate         0\n",
       "UnitPrice           0\n",
       "CustomerID          0\n",
       "Country             0\n",
       "Month               0\n",
       "Date                0\n",
       "Total               0\n",
       "Recency             0\n",
       "Frequency           0\n",
       "Monetary            0\n",
       "R                   0\n",
       "F                   0\n",
       "M                   0\n",
       "RFM_segment         0\n",
       "RFM_score           0\n",
       "Cluster             0\n",
       "CustomerCategory    0\n",
       "dtype: int64"
      ]
     },
     "execution_count": 55,
     "metadata": {},
     "output_type": "execute_result"
    }
   ],
   "source": [
    "final_sales_data.isna().sum()"
   ]
  },
  {
   "cell_type": "code",
   "execution_count": 56,
   "id": "908495a8",
   "metadata": {},
   "outputs": [],
   "source": [
    "final_sales_data.to_excel('Final Retail sales data.xlsx')"
   ]
  },
  {
   "cell_type": "code",
   "execution_count": null,
   "id": "84e9f01c",
   "metadata": {},
   "outputs": [],
   "source": [
    "jupyter nbconvert --execute --to pdf notebook.ipynb"
   ]
  }
 ],
 "metadata": {
  "kernelspec": {
   "display_name": "Python 3 (ipykernel)",
   "language": "python",
   "name": "python3"
  },
  "language_info": {
   "codemirror_mode": {
    "name": "ipython",
    "version": 3
   },
   "file_extension": ".py",
   "mimetype": "text/x-python",
   "name": "python",
   "nbconvert_exporter": "python",
   "pygments_lexer": "ipython3",
   "version": "3.9.13"
  }
 },
 "nbformat": 4,
 "nbformat_minor": 5
}
